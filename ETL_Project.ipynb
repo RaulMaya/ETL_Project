{
 "cells": [
  {
   "cell_type": "markdown",
   "metadata": {},
   "source": [
    "# ETL Project\n",
    "### Extract, Transform and Load videogames data"
   ]
  },
  {
   "cell_type": "code",
   "execution_count": 209,
   "metadata": {},
   "outputs": [],
   "source": [
    "## Dependencies\n",
    "import pandas as pd\n",
    "import datetime as dt\n",
    "import numpy as np"
   ]
  },
  {
   "cell_type": "markdown",
   "metadata": {},
   "source": [
    "## Console Videogames (data.world)\n",
    "\n",
    "Dataset retrieved from: https://data.world/sumitrock/videogames"
   ]
  },
  {
   "cell_type": "code",
   "execution_count": 182,
   "metadata": {},
   "outputs": [
    {
     "output_type": "execute_result",
     "data": {
      "text/plain": [
       "                       Name Platform  Year_of_Release         Genre Publisher  \\\n",
       "0                Wii Sports      Wii           2006.0        Sports  Nintendo   \n",
       "1         Super Mario Bros.      NES           1985.0      Platform  Nintendo   \n",
       "2            Mario Kart Wii      Wii           2008.0        Racing  Nintendo   \n",
       "3         Wii Sports Resort      Wii           2009.0        Sports  Nintendo   \n",
       "4  Pokemon Red/Pokemon Blue       GB           1996.0  Role-Playing  Nintendo   \n",
       "\n",
       "   NA_Sales  EU_Sales  JP_Sales  Other_Sales  Global_Sales  Critic_Score  \\\n",
       "0     41.36     28.96      3.77         8.45         82.53          76.0   \n",
       "1     29.08      3.58      6.81         0.77         40.24           NaN   \n",
       "2     15.68     12.76      3.79         3.29         35.52          82.0   \n",
       "3     15.61     10.93      3.28         2.95         32.77          80.0   \n",
       "4     11.27      8.89     10.22         1.00         31.37           NaN   \n",
       "\n",
       "   Critic_Count User_Score  User_Count Developer Rating  \n",
       "0          51.0          8       322.0  Nintendo      E  \n",
       "1           NaN        NaN         NaN       NaN    NaN  \n",
       "2          73.0        8.3       709.0  Nintendo      E  \n",
       "3          73.0          8       192.0  Nintendo      E  \n",
       "4           NaN        NaN         NaN       NaN    NaN  "
      ],
      "text/html": "<div>\n<style scoped>\n    .dataframe tbody tr th:only-of-type {\n        vertical-align: middle;\n    }\n\n    .dataframe tbody tr th {\n        vertical-align: top;\n    }\n\n    .dataframe thead th {\n        text-align: right;\n    }\n</style>\n<table border=\"1\" class=\"dataframe\">\n  <thead>\n    <tr style=\"text-align: right;\">\n      <th></th>\n      <th>Name</th>\n      <th>Platform</th>\n      <th>Year_of_Release</th>\n      <th>Genre</th>\n      <th>Publisher</th>\n      <th>NA_Sales</th>\n      <th>EU_Sales</th>\n      <th>JP_Sales</th>\n      <th>Other_Sales</th>\n      <th>Global_Sales</th>\n      <th>Critic_Score</th>\n      <th>Critic_Count</th>\n      <th>User_Score</th>\n      <th>User_Count</th>\n      <th>Developer</th>\n      <th>Rating</th>\n    </tr>\n  </thead>\n  <tbody>\n    <tr>\n      <th>0</th>\n      <td>Wii Sports</td>\n      <td>Wii</td>\n      <td>2006.0</td>\n      <td>Sports</td>\n      <td>Nintendo</td>\n      <td>41.36</td>\n      <td>28.96</td>\n      <td>3.77</td>\n      <td>8.45</td>\n      <td>82.53</td>\n      <td>76.0</td>\n      <td>51.0</td>\n      <td>8</td>\n      <td>322.0</td>\n      <td>Nintendo</td>\n      <td>E</td>\n    </tr>\n    <tr>\n      <th>1</th>\n      <td>Super Mario Bros.</td>\n      <td>NES</td>\n      <td>1985.0</td>\n      <td>Platform</td>\n      <td>Nintendo</td>\n      <td>29.08</td>\n      <td>3.58</td>\n      <td>6.81</td>\n      <td>0.77</td>\n      <td>40.24</td>\n      <td>NaN</td>\n      <td>NaN</td>\n      <td>NaN</td>\n      <td>NaN</td>\n      <td>NaN</td>\n      <td>NaN</td>\n    </tr>\n    <tr>\n      <th>2</th>\n      <td>Mario Kart Wii</td>\n      <td>Wii</td>\n      <td>2008.0</td>\n      <td>Racing</td>\n      <td>Nintendo</td>\n      <td>15.68</td>\n      <td>12.76</td>\n      <td>3.79</td>\n      <td>3.29</td>\n      <td>35.52</td>\n      <td>82.0</td>\n      <td>73.0</td>\n      <td>8.3</td>\n      <td>709.0</td>\n      <td>Nintendo</td>\n      <td>E</td>\n    </tr>\n    <tr>\n      <th>3</th>\n      <td>Wii Sports Resort</td>\n      <td>Wii</td>\n      <td>2009.0</td>\n      <td>Sports</td>\n      <td>Nintendo</td>\n      <td>15.61</td>\n      <td>10.93</td>\n      <td>3.28</td>\n      <td>2.95</td>\n      <td>32.77</td>\n      <td>80.0</td>\n      <td>73.0</td>\n      <td>8</td>\n      <td>192.0</td>\n      <td>Nintendo</td>\n      <td>E</td>\n    </tr>\n    <tr>\n      <th>4</th>\n      <td>Pokemon Red/Pokemon Blue</td>\n      <td>GB</td>\n      <td>1996.0</td>\n      <td>Role-Playing</td>\n      <td>Nintendo</td>\n      <td>11.27</td>\n      <td>8.89</td>\n      <td>10.22</td>\n      <td>1.00</td>\n      <td>31.37</td>\n      <td>NaN</td>\n      <td>NaN</td>\n      <td>NaN</td>\n      <td>NaN</td>\n      <td>NaN</td>\n      <td>NaN</td>\n    </tr>\n  </tbody>\n</table>\n</div>"
     },
     "metadata": {},
     "execution_count": 182
    }
   ],
   "source": [
    "## Import CSV into DataFrame\n",
    "console_file = \"input/Video_Games.csv\"\n",
    "console_df = pd.read_csv(console_file, encoding='UTF-8')\n",
    "console_df.head()"
   ]
  },
  {
   "cell_type": "code",
   "execution_count": 183,
   "metadata": {},
   "outputs": [
    {
     "output_type": "execute_result",
     "data": {
      "text/plain": [
       "                       Name Platform  Year_of_Release         Genre Developer  \\\n",
       "0                Wii Sports      Wii           2006.0        Sports  Nintendo   \n",
       "1         Super Mario Bros.      NES           1985.0      Platform       NaN   \n",
       "2            Mario Kart Wii      Wii           2008.0        Racing  Nintendo   \n",
       "3         Wii Sports Resort      Wii           2009.0        Sports  Nintendo   \n",
       "4  Pokemon Red/Pokemon Blue       GB           1996.0  Role-Playing       NaN   \n",
       "\n",
       "  Publisher User_Score  \n",
       "0  Nintendo          8  \n",
       "1  Nintendo        NaN  \n",
       "2  Nintendo        8.3  \n",
       "3  Nintendo          8  \n",
       "4  Nintendo        NaN  "
      ],
      "text/html": "<div>\n<style scoped>\n    .dataframe tbody tr th:only-of-type {\n        vertical-align: middle;\n    }\n\n    .dataframe tbody tr th {\n        vertical-align: top;\n    }\n\n    .dataframe thead th {\n        text-align: right;\n    }\n</style>\n<table border=\"1\" class=\"dataframe\">\n  <thead>\n    <tr style=\"text-align: right;\">\n      <th></th>\n      <th>Name</th>\n      <th>Platform</th>\n      <th>Year_of_Release</th>\n      <th>Genre</th>\n      <th>Developer</th>\n      <th>Publisher</th>\n      <th>User_Score</th>\n    </tr>\n  </thead>\n  <tbody>\n    <tr>\n      <th>0</th>\n      <td>Wii Sports</td>\n      <td>Wii</td>\n      <td>2006.0</td>\n      <td>Sports</td>\n      <td>Nintendo</td>\n      <td>Nintendo</td>\n      <td>8</td>\n    </tr>\n    <tr>\n      <th>1</th>\n      <td>Super Mario Bros.</td>\n      <td>NES</td>\n      <td>1985.0</td>\n      <td>Platform</td>\n      <td>NaN</td>\n      <td>Nintendo</td>\n      <td>NaN</td>\n    </tr>\n    <tr>\n      <th>2</th>\n      <td>Mario Kart Wii</td>\n      <td>Wii</td>\n      <td>2008.0</td>\n      <td>Racing</td>\n      <td>Nintendo</td>\n      <td>Nintendo</td>\n      <td>8.3</td>\n    </tr>\n    <tr>\n      <th>3</th>\n      <td>Wii Sports Resort</td>\n      <td>Wii</td>\n      <td>2009.0</td>\n      <td>Sports</td>\n      <td>Nintendo</td>\n      <td>Nintendo</td>\n      <td>8</td>\n    </tr>\n    <tr>\n      <th>4</th>\n      <td>Pokemon Red/Pokemon Blue</td>\n      <td>GB</td>\n      <td>1996.0</td>\n      <td>Role-Playing</td>\n      <td>NaN</td>\n      <td>Nintendo</td>\n      <td>NaN</td>\n    </tr>\n  </tbody>\n</table>\n</div>"
     },
     "metadata": {},
     "execution_count": 183
    }
   ],
   "source": [
    "## Select Columns for Analysis\n",
    "console_columns = ['Name', 'Platform', 'Year_of_Release', 'Genre', 'Developer', 'Publisher', 'User_Score']\n",
    "console_compact = console_df[console_columns]\n",
    "console_compact.head()"
   ]
  },
  {
   "source": [
    "Year of release as int"
   ],
   "cell_type": "markdown",
   "metadata": {}
  },
  {
   "cell_type": "code",
   "execution_count": 219,
   "metadata": {},
   "outputs": [
    {
     "output_type": "execute_result",
     "data": {
      "text/plain": [
       "0          8\n",
       "1        NaN\n",
       "2        8.3\n",
       "3          8\n",
       "4        NaN\n",
       "        ... \n",
       "16714    NaN\n",
       "16715    NaN\n",
       "16716    NaN\n",
       "16717    NaN\n",
       "16718    NaN\n",
       "Name: User_Score, Length: 14294, dtype: object"
      ]
     },
     "metadata": {},
     "execution_count": 219
    }
   ],
   "source": [
    "console_compact['User_Score'].loc[console_compact['User_Score'] != 'tbd']"
   ]
  },
  {
   "cell_type": "code",
   "execution_count": 217,
   "metadata": {},
   "outputs": [
    {
     "output_type": "stream",
     "name": "stderr",
     "text": [
      "C:\\Users\\rpmcl\\anaconda3\\envs\\PythonData\\lib\\site-packages\\pandas\\core\\ops\\array_ops.py:253: FutureWarning: elementwise comparison failed; returning scalar instead, but in the future will perform elementwise comparison\n  res_values = method(rvalues)\n"
     ]
    },
    {
     "output_type": "execute_result",
     "data": {
      "text/plain": [
       "0          8\n",
       "1        NaN\n",
       "2        8.3\n",
       "3          8\n",
       "4        NaN\n",
       "        ... \n",
       "16714    NaN\n",
       "16715    NaN\n",
       "16716    NaN\n",
       "16717    NaN\n",
       "16718    NaN\n",
       "Name: User_Score, Length: 16719, dtype: object"
      ]
     },
     "metadata": {},
     "execution_count": 217
    }
   ],
   "source": [
    "console_compact['User_Score'].loc[pd.notna(console_compact['User_Score'])  console_compact['User_Score'] != 'tbd']\n",
    "# console_compact['User_Score'] = console_compact['User_Score'].values.astype(int)"
   ]
  },
  {
   "cell_type": "code",
   "execution_count": 185,
   "metadata": {},
   "outputs": [],
   "source": [
    "console_compact.insert(len(console_compact.columns), \"Year_Integer\", console_compact['Year_of_Release'].values.astype(int))"
   ]
  },
  {
   "cell_type": "code",
   "execution_count": 186,
   "metadata": {},
   "outputs": [],
   "source": [
    "console_clean = console_compact.drop(\"Year_of_Release\", axis=1)"
   ]
  },
  {
   "cell_type": "code",
   "execution_count": 187,
   "metadata": {},
   "outputs": [
    {
     "output_type": "execute_result",
     "data": {
      "text/plain": [
       "                       name platform         genre developer publisher  \\\n",
       "0                Wii Sports      Wii        Sports  Nintendo  Nintendo   \n",
       "1         Super Mario Bros.      NES      Platform       NaN  Nintendo   \n",
       "2            Mario Kart Wii      Wii        Racing  Nintendo  Nintendo   \n",
       "3         Wii Sports Resort      Wii        Sports  Nintendo  Nintendo   \n",
       "4  Pokemon Red/Pokemon Blue       GB  Role-Playing       NaN  Nintendo   \n",
       "\n",
       "  user_score  year_of_release  \n",
       "0          8             2006  \n",
       "1        NaN             1985  \n",
       "2        8.3             2008  \n",
       "3          8             2009  \n",
       "4        NaN             1996  "
      ],
      "text/html": "<div>\n<style scoped>\n    .dataframe tbody tr th:only-of-type {\n        vertical-align: middle;\n    }\n\n    .dataframe tbody tr th {\n        vertical-align: top;\n    }\n\n    .dataframe thead th {\n        text-align: right;\n    }\n</style>\n<table border=\"1\" class=\"dataframe\">\n  <thead>\n    <tr style=\"text-align: right;\">\n      <th></th>\n      <th>name</th>\n      <th>platform</th>\n      <th>genre</th>\n      <th>developer</th>\n      <th>publisher</th>\n      <th>user_score</th>\n      <th>year_of_release</th>\n    </tr>\n  </thead>\n  <tbody>\n    <tr>\n      <th>0</th>\n      <td>Wii Sports</td>\n      <td>Wii</td>\n      <td>Sports</td>\n      <td>Nintendo</td>\n      <td>Nintendo</td>\n      <td>8</td>\n      <td>2006</td>\n    </tr>\n    <tr>\n      <th>1</th>\n      <td>Super Mario Bros.</td>\n      <td>NES</td>\n      <td>Platform</td>\n      <td>NaN</td>\n      <td>Nintendo</td>\n      <td>NaN</td>\n      <td>1985</td>\n    </tr>\n    <tr>\n      <th>2</th>\n      <td>Mario Kart Wii</td>\n      <td>Wii</td>\n      <td>Racing</td>\n      <td>Nintendo</td>\n      <td>Nintendo</td>\n      <td>8.3</td>\n      <td>2008</td>\n    </tr>\n    <tr>\n      <th>3</th>\n      <td>Wii Sports Resort</td>\n      <td>Wii</td>\n      <td>Sports</td>\n      <td>Nintendo</td>\n      <td>Nintendo</td>\n      <td>8</td>\n      <td>2009</td>\n    </tr>\n    <tr>\n      <th>4</th>\n      <td>Pokemon Red/Pokemon Blue</td>\n      <td>GB</td>\n      <td>Role-Playing</td>\n      <td>NaN</td>\n      <td>Nintendo</td>\n      <td>NaN</td>\n      <td>1996</td>\n    </tr>\n  </tbody>\n</table>\n</div>"
     },
     "metadata": {},
     "execution_count": 187
    }
   ],
   "source": [
    "columns = {\n",
    "    'Name':'name',\n",
    "    'Platform':'platform',\n",
    "    'Genre':'genre',\n",
    "    'Developer':'developer',\n",
    "    'Publisher':'publisher',\n",
    "    'Year_Integer':'year_of_release',\n",
    "    'User_Score':'user_score'}\n",
    "console_clean.rename(columns = columns, inplace=True)\n",
    "console_clean.head()"
   ]
  },
  {
   "cell_type": "code",
   "execution_count": null,
   "metadata": {},
   "outputs": [],
   "source": []
  },
  {
   "cell_type": "markdown",
   "metadata": {},
   "source": [
    "## Steam Videogames (kaggle.com)\n",
    "Dataset retrieved from: https://www.kaggle.com/nikdavis/steam-store-games"
   ]
  },
  {
   "cell_type": "code",
   "execution_count": 188,
   "metadata": {},
   "outputs": [
    {
     "output_type": "execute_result",
     "data": {
      "text/plain": [
       "   appid                       name release_date  english         developer  \\\n",
       "0     10             Counter-Strike   2000-11-01        1             Valve   \n",
       "1     20      Team Fortress Classic   1999-04-01        1             Valve   \n",
       "2     30              Day of Defeat   2003-05-01        1             Valve   \n",
       "3     40         Deathmatch Classic   2001-06-01        1             Valve   \n",
       "4     50  Half-Life: Opposing Force   1999-11-01        1  Gearbox Software   \n",
       "\n",
       "  publisher          platforms  required_age  \\\n",
       "0     Valve  windows;mac;linux             0   \n",
       "1     Valve  windows;mac;linux             0   \n",
       "2     Valve  windows;mac;linux             0   \n",
       "3     Valve  windows;mac;linux             0   \n",
       "4     Valve  windows;mac;linux             0   \n",
       "\n",
       "                                          categories  genres  \\\n",
       "0  Multi-player;Online Multi-Player;Local Multi-P...  Action   \n",
       "1  Multi-player;Online Multi-Player;Local Multi-P...  Action   \n",
       "2              Multi-player;Valve Anti-Cheat enabled  Action   \n",
       "3  Multi-player;Online Multi-Player;Local Multi-P...  Action   \n",
       "4  Single-player;Multi-player;Valve Anti-Cheat en...  Action   \n",
       "\n",
       "                  steamspy_tags  achievements  positive_ratings  \\\n",
       "0        Action;FPS;Multiplayer             0            124534   \n",
       "1        Action;FPS;Multiplayer             0              3318   \n",
       "2  FPS;World War II;Multiplayer             0              3416   \n",
       "3        Action;FPS;Multiplayer             0              1273   \n",
       "4             FPS;Action;Sci-fi             0              5250   \n",
       "\n",
       "   negative_ratings  average_playtime  median_playtime             owners  \\\n",
       "0              3339             17612              317  10000000-20000000   \n",
       "1               633               277               62   5000000-10000000   \n",
       "2               398               187               34   5000000-10000000   \n",
       "3               267               258              184   5000000-10000000   \n",
       "4               288               624              415   5000000-10000000   \n",
       "\n",
       "   price  \n",
       "0   7.19  \n",
       "1   3.99  \n",
       "2   3.99  \n",
       "3   3.99  \n",
       "4   3.99  "
      ],
      "text/html": "<div>\n<style scoped>\n    .dataframe tbody tr th:only-of-type {\n        vertical-align: middle;\n    }\n\n    .dataframe tbody tr th {\n        vertical-align: top;\n    }\n\n    .dataframe thead th {\n        text-align: right;\n    }\n</style>\n<table border=\"1\" class=\"dataframe\">\n  <thead>\n    <tr style=\"text-align: right;\">\n      <th></th>\n      <th>appid</th>\n      <th>name</th>\n      <th>release_date</th>\n      <th>english</th>\n      <th>developer</th>\n      <th>publisher</th>\n      <th>platforms</th>\n      <th>required_age</th>\n      <th>categories</th>\n      <th>genres</th>\n      <th>steamspy_tags</th>\n      <th>achievements</th>\n      <th>positive_ratings</th>\n      <th>negative_ratings</th>\n      <th>average_playtime</th>\n      <th>median_playtime</th>\n      <th>owners</th>\n      <th>price</th>\n    </tr>\n  </thead>\n  <tbody>\n    <tr>\n      <th>0</th>\n      <td>10</td>\n      <td>Counter-Strike</td>\n      <td>2000-11-01</td>\n      <td>1</td>\n      <td>Valve</td>\n      <td>Valve</td>\n      <td>windows;mac;linux</td>\n      <td>0</td>\n      <td>Multi-player;Online Multi-Player;Local Multi-P...</td>\n      <td>Action</td>\n      <td>Action;FPS;Multiplayer</td>\n      <td>0</td>\n      <td>124534</td>\n      <td>3339</td>\n      <td>17612</td>\n      <td>317</td>\n      <td>10000000-20000000</td>\n      <td>7.19</td>\n    </tr>\n    <tr>\n      <th>1</th>\n      <td>20</td>\n      <td>Team Fortress Classic</td>\n      <td>1999-04-01</td>\n      <td>1</td>\n      <td>Valve</td>\n      <td>Valve</td>\n      <td>windows;mac;linux</td>\n      <td>0</td>\n      <td>Multi-player;Online Multi-Player;Local Multi-P...</td>\n      <td>Action</td>\n      <td>Action;FPS;Multiplayer</td>\n      <td>0</td>\n      <td>3318</td>\n      <td>633</td>\n      <td>277</td>\n      <td>62</td>\n      <td>5000000-10000000</td>\n      <td>3.99</td>\n    </tr>\n    <tr>\n      <th>2</th>\n      <td>30</td>\n      <td>Day of Defeat</td>\n      <td>2003-05-01</td>\n      <td>1</td>\n      <td>Valve</td>\n      <td>Valve</td>\n      <td>windows;mac;linux</td>\n      <td>0</td>\n      <td>Multi-player;Valve Anti-Cheat enabled</td>\n      <td>Action</td>\n      <td>FPS;World War II;Multiplayer</td>\n      <td>0</td>\n      <td>3416</td>\n      <td>398</td>\n      <td>187</td>\n      <td>34</td>\n      <td>5000000-10000000</td>\n      <td>3.99</td>\n    </tr>\n    <tr>\n      <th>3</th>\n      <td>40</td>\n      <td>Deathmatch Classic</td>\n      <td>2001-06-01</td>\n      <td>1</td>\n      <td>Valve</td>\n      <td>Valve</td>\n      <td>windows;mac;linux</td>\n      <td>0</td>\n      <td>Multi-player;Online Multi-Player;Local Multi-P...</td>\n      <td>Action</td>\n      <td>Action;FPS;Multiplayer</td>\n      <td>0</td>\n      <td>1273</td>\n      <td>267</td>\n      <td>258</td>\n      <td>184</td>\n      <td>5000000-10000000</td>\n      <td>3.99</td>\n    </tr>\n    <tr>\n      <th>4</th>\n      <td>50</td>\n      <td>Half-Life: Opposing Force</td>\n      <td>1999-11-01</td>\n      <td>1</td>\n      <td>Gearbox Software</td>\n      <td>Valve</td>\n      <td>windows;mac;linux</td>\n      <td>0</td>\n      <td>Single-player;Multi-player;Valve Anti-Cheat en...</td>\n      <td>Action</td>\n      <td>FPS;Action;Sci-fi</td>\n      <td>0</td>\n      <td>5250</td>\n      <td>288</td>\n      <td>624</td>\n      <td>415</td>\n      <td>5000000-10000000</td>\n      <td>3.99</td>\n    </tr>\n  </tbody>\n</table>\n</div>"
     },
     "metadata": {},
     "execution_count": 188
    }
   ],
   "source": [
    "## Import CSV into DataFrame\n",
    "steam_file = \"input/steam.csv\"\n",
    "steam_df = pd.read_csv(steam_file, encoding='UTF-8')\n",
    "steam_df.head()"
   ]
  },
  {
   "cell_type": "code",
   "execution_count": 189,
   "metadata": {},
   "outputs": [
    {
     "output_type": "execute_result",
     "data": {
      "text/plain": [
       "                        name          platforms release_date  genres  \\\n",
       "0             Counter-Strike  windows;mac;linux   2000-11-01  Action   \n",
       "1      Team Fortress Classic  windows;mac;linux   1999-04-01  Action   \n",
       "2              Day of Defeat  windows;mac;linux   2003-05-01  Action   \n",
       "3         Deathmatch Classic  windows;mac;linux   2001-06-01  Action   \n",
       "4  Half-Life: Opposing Force  windows;mac;linux   1999-11-01  Action   \n",
       "\n",
       "          developer publisher  positive_ratings  negative_ratings  \n",
       "0             Valve     Valve            124534              3339  \n",
       "1             Valve     Valve              3318               633  \n",
       "2             Valve     Valve              3416               398  \n",
       "3             Valve     Valve              1273               267  \n",
       "4  Gearbox Software     Valve              5250               288  "
      ],
      "text/html": "<div>\n<style scoped>\n    .dataframe tbody tr th:only-of-type {\n        vertical-align: middle;\n    }\n\n    .dataframe tbody tr th {\n        vertical-align: top;\n    }\n\n    .dataframe thead th {\n        text-align: right;\n    }\n</style>\n<table border=\"1\" class=\"dataframe\">\n  <thead>\n    <tr style=\"text-align: right;\">\n      <th></th>\n      <th>name</th>\n      <th>platforms</th>\n      <th>release_date</th>\n      <th>genres</th>\n      <th>developer</th>\n      <th>publisher</th>\n      <th>positive_ratings</th>\n      <th>negative_ratings</th>\n    </tr>\n  </thead>\n  <tbody>\n    <tr>\n      <th>0</th>\n      <td>Counter-Strike</td>\n      <td>windows;mac;linux</td>\n      <td>2000-11-01</td>\n      <td>Action</td>\n      <td>Valve</td>\n      <td>Valve</td>\n      <td>124534</td>\n      <td>3339</td>\n    </tr>\n    <tr>\n      <th>1</th>\n      <td>Team Fortress Classic</td>\n      <td>windows;mac;linux</td>\n      <td>1999-04-01</td>\n      <td>Action</td>\n      <td>Valve</td>\n      <td>Valve</td>\n      <td>3318</td>\n      <td>633</td>\n    </tr>\n    <tr>\n      <th>2</th>\n      <td>Day of Defeat</td>\n      <td>windows;mac;linux</td>\n      <td>2003-05-01</td>\n      <td>Action</td>\n      <td>Valve</td>\n      <td>Valve</td>\n      <td>3416</td>\n      <td>398</td>\n    </tr>\n    <tr>\n      <th>3</th>\n      <td>Deathmatch Classic</td>\n      <td>windows;mac;linux</td>\n      <td>2001-06-01</td>\n      <td>Action</td>\n      <td>Valve</td>\n      <td>Valve</td>\n      <td>1273</td>\n      <td>267</td>\n    </tr>\n    <tr>\n      <th>4</th>\n      <td>Half-Life: Opposing Force</td>\n      <td>windows;mac;linux</td>\n      <td>1999-11-01</td>\n      <td>Action</td>\n      <td>Gearbox Software</td>\n      <td>Valve</td>\n      <td>5250</td>\n      <td>288</td>\n    </tr>\n  </tbody>\n</table>\n</div>"
     },
     "metadata": {},
     "execution_count": 189
    }
   ],
   "source": [
    "## Select Columns for Analysis\n",
    "steam_columns = [\"name\", \"platforms\", \"release_date\", \"genres\", \"developer\", \"publisher\", \"positive_ratings\", \"negative_ratings\"]\n",
    "steam_compact = steam_df[steam_columns]\n",
    "steam_compact.head()"
   ]
  },
  {
   "cell_type": "markdown",
   "metadata": {},
   "source": [
    "### Get Main Genre from Steam DataFrame"
   ]
  },
  {
   "cell_type": "code",
   "execution_count": 190,
   "metadata": {},
   "outputs": [],
   "source": [
    "## Get main genre from genres\n",
    "main_genre = []\n",
    "for index, row in steam_compact.iterrows():\n",
    "    main_genre.append(row['genres'].split(';')[0])"
   ]
  },
  {
   "cell_type": "code",
   "execution_count": 191,
   "metadata": {},
   "outputs": [
    {
     "output_type": "execute_result",
     "data": {
      "text/plain": [
       "                        name          platforms release_date  genres  \\\n",
       "0             Counter-Strike  windows;mac;linux   2000-11-01  Action   \n",
       "1      Team Fortress Classic  windows;mac;linux   1999-04-01  Action   \n",
       "2              Day of Defeat  windows;mac;linux   2003-05-01  Action   \n",
       "3         Deathmatch Classic  windows;mac;linux   2001-06-01  Action   \n",
       "4  Half-Life: Opposing Force  windows;mac;linux   1999-11-01  Action   \n",
       "\n",
       "          developer publisher  positive_ratings  negative_ratings  \n",
       "0             Valve     Valve            124534              3339  \n",
       "1             Valve     Valve              3318               633  \n",
       "2             Valve     Valve              3416               398  \n",
       "3             Valve     Valve              1273               267  \n",
       "4  Gearbox Software     Valve              5250               288  "
      ],
      "text/html": "<div>\n<style scoped>\n    .dataframe tbody tr th:only-of-type {\n        vertical-align: middle;\n    }\n\n    .dataframe tbody tr th {\n        vertical-align: top;\n    }\n\n    .dataframe thead th {\n        text-align: right;\n    }\n</style>\n<table border=\"1\" class=\"dataframe\">\n  <thead>\n    <tr style=\"text-align: right;\">\n      <th></th>\n      <th>name</th>\n      <th>platforms</th>\n      <th>release_date</th>\n      <th>genres</th>\n      <th>developer</th>\n      <th>publisher</th>\n      <th>positive_ratings</th>\n      <th>negative_ratings</th>\n    </tr>\n  </thead>\n  <tbody>\n    <tr>\n      <th>0</th>\n      <td>Counter-Strike</td>\n      <td>windows;mac;linux</td>\n      <td>2000-11-01</td>\n      <td>Action</td>\n      <td>Valve</td>\n      <td>Valve</td>\n      <td>124534</td>\n      <td>3339</td>\n    </tr>\n    <tr>\n      <th>1</th>\n      <td>Team Fortress Classic</td>\n      <td>windows;mac;linux</td>\n      <td>1999-04-01</td>\n      <td>Action</td>\n      <td>Valve</td>\n      <td>Valve</td>\n      <td>3318</td>\n      <td>633</td>\n    </tr>\n    <tr>\n      <th>2</th>\n      <td>Day of Defeat</td>\n      <td>windows;mac;linux</td>\n      <td>2003-05-01</td>\n      <td>Action</td>\n      <td>Valve</td>\n      <td>Valve</td>\n      <td>3416</td>\n      <td>398</td>\n    </tr>\n    <tr>\n      <th>3</th>\n      <td>Deathmatch Classic</td>\n      <td>windows;mac;linux</td>\n      <td>2001-06-01</td>\n      <td>Action</td>\n      <td>Valve</td>\n      <td>Valve</td>\n      <td>1273</td>\n      <td>267</td>\n    </tr>\n    <tr>\n      <th>4</th>\n      <td>Half-Life: Opposing Force</td>\n      <td>windows;mac;linux</td>\n      <td>1999-11-01</td>\n      <td>Action</td>\n      <td>Gearbox Software</td>\n      <td>Valve</td>\n      <td>5250</td>\n      <td>288</td>\n    </tr>\n  </tbody>\n</table>\n</div>"
     },
     "metadata": {},
     "execution_count": 191
    }
   ],
   "source": [
    "steam_compact.head()"
   ]
  },
  {
   "cell_type": "markdown",
   "metadata": {},
   "source": [
    "### Generate \"Steam\" Platform column"
   ]
  },
  {
   "cell_type": "code",
   "execution_count": 192,
   "metadata": {},
   "outputs": [
    {
     "output_type": "stream",
     "name": "stderr",
     "text": [
      "C:\\Users\\rpmcl\\anaconda3\\envs\\PythonData\\lib\\site-packages\\pandas\\core\\frame.py:3997: SettingWithCopyWarning: \nA value is trying to be set on a copy of a slice from a DataFrame\n\nSee the caveats in the documentation: https://pandas.pydata.org/pandas-docs/stable/user_guide/indexing.html#returning-a-view-versus-a-copy\n  errors=errors,\n"
     ]
    }
   ],
   "source": [
    "steam_labels = [\"Steam\" for i in range(len(steam_compact))]\n",
    "steam_compact.insert(len(steam_compact.columns), \"platforms_steam\", pd.DataFrame(steam_labels))\n",
    "steam_compact.drop(\"platforms\", axis=1, inplace=True)"
   ]
  },
  {
   "cell_type": "code",
   "execution_count": 193,
   "metadata": {},
   "outputs": [
    {
     "output_type": "execute_result",
     "data": {
      "text/plain": [
       "                        name release_date  genres         developer publisher  \\\n",
       "0             Counter-Strike   2000-11-01  Action             Valve     Valve   \n",
       "1      Team Fortress Classic   1999-04-01  Action             Valve     Valve   \n",
       "2              Day of Defeat   2003-05-01  Action             Valve     Valve   \n",
       "3         Deathmatch Classic   2001-06-01  Action             Valve     Valve   \n",
       "4  Half-Life: Opposing Force   1999-11-01  Action  Gearbox Software     Valve   \n",
       "\n",
       "   positive_ratings  negative_ratings platforms_steam  \n",
       "0            124534              3339           Steam  \n",
       "1              3318               633           Steam  \n",
       "2              3416               398           Steam  \n",
       "3              1273               267           Steam  \n",
       "4              5250               288           Steam  "
      ],
      "text/html": "<div>\n<style scoped>\n    .dataframe tbody tr th:only-of-type {\n        vertical-align: middle;\n    }\n\n    .dataframe tbody tr th {\n        vertical-align: top;\n    }\n\n    .dataframe thead th {\n        text-align: right;\n    }\n</style>\n<table border=\"1\" class=\"dataframe\">\n  <thead>\n    <tr style=\"text-align: right;\">\n      <th></th>\n      <th>name</th>\n      <th>release_date</th>\n      <th>genres</th>\n      <th>developer</th>\n      <th>publisher</th>\n      <th>positive_ratings</th>\n      <th>negative_ratings</th>\n      <th>platforms_steam</th>\n    </tr>\n  </thead>\n  <tbody>\n    <tr>\n      <th>0</th>\n      <td>Counter-Strike</td>\n      <td>2000-11-01</td>\n      <td>Action</td>\n      <td>Valve</td>\n      <td>Valve</td>\n      <td>124534</td>\n      <td>3339</td>\n      <td>Steam</td>\n    </tr>\n    <tr>\n      <th>1</th>\n      <td>Team Fortress Classic</td>\n      <td>1999-04-01</td>\n      <td>Action</td>\n      <td>Valve</td>\n      <td>Valve</td>\n      <td>3318</td>\n      <td>633</td>\n      <td>Steam</td>\n    </tr>\n    <tr>\n      <th>2</th>\n      <td>Day of Defeat</td>\n      <td>2003-05-01</td>\n      <td>Action</td>\n      <td>Valve</td>\n      <td>Valve</td>\n      <td>3416</td>\n      <td>398</td>\n      <td>Steam</td>\n    </tr>\n    <tr>\n      <th>3</th>\n      <td>Deathmatch Classic</td>\n      <td>2001-06-01</td>\n      <td>Action</td>\n      <td>Valve</td>\n      <td>Valve</td>\n      <td>1273</td>\n      <td>267</td>\n      <td>Steam</td>\n    </tr>\n    <tr>\n      <th>4</th>\n      <td>Half-Life: Opposing Force</td>\n      <td>1999-11-01</td>\n      <td>Action</td>\n      <td>Gearbox Software</td>\n      <td>Valve</td>\n      <td>5250</td>\n      <td>288</td>\n      <td>Steam</td>\n    </tr>\n  </tbody>\n</table>\n</div>"
     },
     "metadata": {},
     "execution_count": 193
    }
   ],
   "source": [
    "steam_compact.head()"
   ]
  },
  {
   "cell_type": "markdown",
   "metadata": {},
   "source": [
    "### Get Year of Release from Release Date"
   ]
  },
  {
   "cell_type": "code",
   "execution_count": 194,
   "metadata": {},
   "outputs": [],
   "source": [
    "#Steam Year of Release\n",
    "datetime_list = []\n"
   ]
  },
  {
   "cell_type": "code",
   "execution_count": 195,
   "metadata": {},
   "outputs": [
    {
     "output_type": "stream",
     "name": "stderr",
     "text": [
      "C:\\Users\\rpmcl\\anaconda3\\envs\\PythonData\\lib\\site-packages\\ipykernel_launcher.py:5: SettingWithCopyWarning: \nA value is trying to be set on a copy of a slice from a DataFrame.\nTry using .loc[row_indexer,col_indexer] = value instead\n\nSee the caveats in the documentation: https://pandas.pydata.org/pandas-docs/stable/user_guide/indexing.html#returning-a-view-versus-a-copy\n  \"\"\"\n"
     ]
    }
   ],
   "source": [
    "for x in steam_compact[\"release_date\"]:\n",
    "    x = dt.datetime.strptime(x, '%Y-%m-%d')\n",
    "    datetime_list.append(x)\n",
    "    \n",
    "steam_compact['release_date'] = datetime_list"
   ]
  },
  {
   "cell_type": "code",
   "execution_count": 196,
   "metadata": {},
   "outputs": [
    {
     "output_type": "execute_result",
     "data": {
      "text/plain": [
       "                        name release_date  genres         developer publisher  \\\n",
       "0             Counter-Strike   2000-11-01  Action             Valve     Valve   \n",
       "1      Team Fortress Classic   1999-04-01  Action             Valve     Valve   \n",
       "2              Day of Defeat   2003-05-01  Action             Valve     Valve   \n",
       "3         Deathmatch Classic   2001-06-01  Action             Valve     Valve   \n",
       "4  Half-Life: Opposing Force   1999-11-01  Action  Gearbox Software     Valve   \n",
       "\n",
       "   positive_ratings  negative_ratings platforms_steam  \n",
       "0            124534              3339           Steam  \n",
       "1              3318               633           Steam  \n",
       "2              3416               398           Steam  \n",
       "3              1273               267           Steam  \n",
       "4              5250               288           Steam  "
      ],
      "text/html": "<div>\n<style scoped>\n    .dataframe tbody tr th:only-of-type {\n        vertical-align: middle;\n    }\n\n    .dataframe tbody tr th {\n        vertical-align: top;\n    }\n\n    .dataframe thead th {\n        text-align: right;\n    }\n</style>\n<table border=\"1\" class=\"dataframe\">\n  <thead>\n    <tr style=\"text-align: right;\">\n      <th></th>\n      <th>name</th>\n      <th>release_date</th>\n      <th>genres</th>\n      <th>developer</th>\n      <th>publisher</th>\n      <th>positive_ratings</th>\n      <th>negative_ratings</th>\n      <th>platforms_steam</th>\n    </tr>\n  </thead>\n  <tbody>\n    <tr>\n      <th>0</th>\n      <td>Counter-Strike</td>\n      <td>2000-11-01</td>\n      <td>Action</td>\n      <td>Valve</td>\n      <td>Valve</td>\n      <td>124534</td>\n      <td>3339</td>\n      <td>Steam</td>\n    </tr>\n    <tr>\n      <th>1</th>\n      <td>Team Fortress Classic</td>\n      <td>1999-04-01</td>\n      <td>Action</td>\n      <td>Valve</td>\n      <td>Valve</td>\n      <td>3318</td>\n      <td>633</td>\n      <td>Steam</td>\n    </tr>\n    <tr>\n      <th>2</th>\n      <td>Day of Defeat</td>\n      <td>2003-05-01</td>\n      <td>Action</td>\n      <td>Valve</td>\n      <td>Valve</td>\n      <td>3416</td>\n      <td>398</td>\n      <td>Steam</td>\n    </tr>\n    <tr>\n      <th>3</th>\n      <td>Deathmatch Classic</td>\n      <td>2001-06-01</td>\n      <td>Action</td>\n      <td>Valve</td>\n      <td>Valve</td>\n      <td>1273</td>\n      <td>267</td>\n      <td>Steam</td>\n    </tr>\n    <tr>\n      <th>4</th>\n      <td>Half-Life: Opposing Force</td>\n      <td>1999-11-01</td>\n      <td>Action</td>\n      <td>Gearbox Software</td>\n      <td>Valve</td>\n      <td>5250</td>\n      <td>288</td>\n      <td>Steam</td>\n    </tr>\n  </tbody>\n</table>\n</div>"
     },
     "metadata": {},
     "execution_count": 196
    }
   ],
   "source": [
    "steam_compact.head()"
   ]
  },
  {
   "cell_type": "code",
   "execution_count": 197,
   "metadata": {},
   "outputs": [
    {
     "output_type": "stream",
     "name": "stderr",
     "text": [
      "C:\\Users\\rpmcl\\anaconda3\\envs\\PythonData\\lib\\site-packages\\ipykernel_launcher.py:1: SettingWithCopyWarning: \nA value is trying to be set on a copy of a slice from a DataFrame.\nTry using .loc[row_indexer,col_indexer] = value instead\n\nSee the caveats in the documentation: https://pandas.pydata.org/pandas-docs/stable/user_guide/indexing.html#returning-a-view-versus-a-copy\n  \"\"\"Entry point for launching an IPython kernel.\nC:\\Users\\rpmcl\\anaconda3\\envs\\PythonData\\lib\\site-packages\\pandas\\core\\frame.py:3997: SettingWithCopyWarning: \nA value is trying to be set on a copy of a slice from a DataFrame\n\nSee the caveats in the documentation: https://pandas.pydata.org/pandas-docs/stable/user_guide/indexing.html#returning-a-view-versus-a-copy\n  errors=errors,\n"
     ]
    }
   ],
   "source": [
    "steam_compact['release_year'] = (steam_compact['release_date'].dt.year).astype(int)\n",
    "steam_compact.drop(\"release_date\", axis=1, inplace=True)\n"
   ]
  },
  {
   "cell_type": "code",
   "execution_count": 198,
   "metadata": {},
   "outputs": [
    {
     "output_type": "execute_result",
     "data": {
      "text/plain": [
       "                        name  genres         developer publisher  \\\n",
       "0             Counter-Strike  Action             Valve     Valve   \n",
       "1      Team Fortress Classic  Action             Valve     Valve   \n",
       "2              Day of Defeat  Action             Valve     Valve   \n",
       "3         Deathmatch Classic  Action             Valve     Valve   \n",
       "4  Half-Life: Opposing Force  Action  Gearbox Software     Valve   \n",
       "\n",
       "   positive_ratings  negative_ratings platforms_steam  release_year  \n",
       "0            124534              3339           Steam          2000  \n",
       "1              3318               633           Steam          1999  \n",
       "2              3416               398           Steam          2003  \n",
       "3              1273               267           Steam          2001  \n",
       "4              5250               288           Steam          1999  "
      ],
      "text/html": "<div>\n<style scoped>\n    .dataframe tbody tr th:only-of-type {\n        vertical-align: middle;\n    }\n\n    .dataframe tbody tr th {\n        vertical-align: top;\n    }\n\n    .dataframe thead th {\n        text-align: right;\n    }\n</style>\n<table border=\"1\" class=\"dataframe\">\n  <thead>\n    <tr style=\"text-align: right;\">\n      <th></th>\n      <th>name</th>\n      <th>genres</th>\n      <th>developer</th>\n      <th>publisher</th>\n      <th>positive_ratings</th>\n      <th>negative_ratings</th>\n      <th>platforms_steam</th>\n      <th>release_year</th>\n    </tr>\n  </thead>\n  <tbody>\n    <tr>\n      <th>0</th>\n      <td>Counter-Strike</td>\n      <td>Action</td>\n      <td>Valve</td>\n      <td>Valve</td>\n      <td>124534</td>\n      <td>3339</td>\n      <td>Steam</td>\n      <td>2000</td>\n    </tr>\n    <tr>\n      <th>1</th>\n      <td>Team Fortress Classic</td>\n      <td>Action</td>\n      <td>Valve</td>\n      <td>Valve</td>\n      <td>3318</td>\n      <td>633</td>\n      <td>Steam</td>\n      <td>1999</td>\n    </tr>\n    <tr>\n      <th>2</th>\n      <td>Day of Defeat</td>\n      <td>Action</td>\n      <td>Valve</td>\n      <td>Valve</td>\n      <td>3416</td>\n      <td>398</td>\n      <td>Steam</td>\n      <td>2003</td>\n    </tr>\n    <tr>\n      <th>3</th>\n      <td>Deathmatch Classic</td>\n      <td>Action</td>\n      <td>Valve</td>\n      <td>Valve</td>\n      <td>1273</td>\n      <td>267</td>\n      <td>Steam</td>\n      <td>2001</td>\n    </tr>\n    <tr>\n      <th>4</th>\n      <td>Half-Life: Opposing Force</td>\n      <td>Action</td>\n      <td>Gearbox Software</td>\n      <td>Valve</td>\n      <td>5250</td>\n      <td>288</td>\n      <td>Steam</td>\n      <td>1999</td>\n    </tr>\n  </tbody>\n</table>\n</div>"
     },
     "metadata": {},
     "execution_count": 198
    }
   ],
   "source": [
    "steam_compact.head()"
   ]
  },
  {
   "cell_type": "markdown",
   "metadata": {},
   "source": [
    "### Compute User Score"
   ]
  },
  {
   "cell_type": "code",
   "execution_count": 199,
   "metadata": {},
   "outputs": [
    {
     "output_type": "stream",
     "name": "stderr",
     "text": [
      "C:\\Users\\rpmcl\\anaconda3\\envs\\PythonData\\lib\\site-packages\\ipykernel_launcher.py:1: SettingWithCopyWarning: \nA value is trying to be set on a copy of a slice from a DataFrame.\nTry using .loc[row_indexer,col_indexer] = value instead\n\nSee the caveats in the documentation: https://pandas.pydata.org/pandas-docs/stable/user_guide/indexing.html#returning-a-view-versus-a-copy\n  \"\"\"Entry point for launching an IPython kernel.\n"
     ]
    },
    {
     "output_type": "execute_result",
     "data": {
      "text/plain": [
       "                        name platforms_steam  release_year  genres  \\\n",
       "0             Counter-Strike           Steam          2000  Action   \n",
       "1      Team Fortress Classic           Steam          1999  Action   \n",
       "2              Day of Defeat           Steam          2003  Action   \n",
       "3         Deathmatch Classic           Steam          2001  Action   \n",
       "4  Half-Life: Opposing Force           Steam          1999  Action   \n",
       "\n",
       "          developer publisher  User_Score  \n",
       "0             Valve     Valve    9.738882  \n",
       "1             Valve     Valve    8.397874  \n",
       "2             Valve     Valve    8.956476  \n",
       "3             Valve     Valve    8.266234  \n",
       "4  Gearbox Software     Valve    9.479957  "
      ],
      "text/html": "<div>\n<style scoped>\n    .dataframe tbody tr th:only-of-type {\n        vertical-align: middle;\n    }\n\n    .dataframe tbody tr th {\n        vertical-align: top;\n    }\n\n    .dataframe thead th {\n        text-align: right;\n    }\n</style>\n<table border=\"1\" class=\"dataframe\">\n  <thead>\n    <tr style=\"text-align: right;\">\n      <th></th>\n      <th>name</th>\n      <th>platforms_steam</th>\n      <th>release_year</th>\n      <th>genres</th>\n      <th>developer</th>\n      <th>publisher</th>\n      <th>User_Score</th>\n    </tr>\n  </thead>\n  <tbody>\n    <tr>\n      <th>0</th>\n      <td>Counter-Strike</td>\n      <td>Steam</td>\n      <td>2000</td>\n      <td>Action</td>\n      <td>Valve</td>\n      <td>Valve</td>\n      <td>9.738882</td>\n    </tr>\n    <tr>\n      <th>1</th>\n      <td>Team Fortress Classic</td>\n      <td>Steam</td>\n      <td>1999</td>\n      <td>Action</td>\n      <td>Valve</td>\n      <td>Valve</td>\n      <td>8.397874</td>\n    </tr>\n    <tr>\n      <th>2</th>\n      <td>Day of Defeat</td>\n      <td>Steam</td>\n      <td>2003</td>\n      <td>Action</td>\n      <td>Valve</td>\n      <td>Valve</td>\n      <td>8.956476</td>\n    </tr>\n    <tr>\n      <th>3</th>\n      <td>Deathmatch Classic</td>\n      <td>Steam</td>\n      <td>2001</td>\n      <td>Action</td>\n      <td>Valve</td>\n      <td>Valve</td>\n      <td>8.266234</td>\n    </tr>\n    <tr>\n      <th>4</th>\n      <td>Half-Life: Opposing Force</td>\n      <td>Steam</td>\n      <td>1999</td>\n      <td>Action</td>\n      <td>Gearbox Software</td>\n      <td>Valve</td>\n      <td>9.479957</td>\n    </tr>\n  </tbody>\n</table>\n</div>"
     },
     "metadata": {},
     "execution_count": 199
    }
   ],
   "source": [
    "steam_compact[\"User_Score\"] = steam_compact[\"positive_ratings\"]/(steam_compact[\"positive_ratings\"]+steam_compact[\"negative_ratings\"])*10\n",
    "steam_clean = steam_compact[[\"name\",\"platforms_steam\",\"release_year\",\"genres\",\"developer\",\"publisher\",\"User_Score\"]]\n",
    "steam_clean.head()"
   ]
  },
  {
   "cell_type": "code",
   "execution_count": 200,
   "metadata": {},
   "outputs": [
    {
     "output_type": "stream",
     "name": "stderr",
     "text": [
      "C:\\Users\\rpmcl\\anaconda3\\envs\\PythonData\\lib\\site-packages\\pandas\\core\\frame.py:4133: SettingWithCopyWarning: \nA value is trying to be set on a copy of a slice from a DataFrame\n\nSee the caveats in the documentation: https://pandas.pydata.org/pandas-docs/stable/user_guide/indexing.html#returning-a-view-versus-a-copy\n  errors=errors,\n"
     ]
    },
    {
     "output_type": "execute_result",
     "data": {
      "text/plain": [
       "                        name platform  year_of_release   genre  \\\n",
       "0             Counter-Strike    Steam             2000  Action   \n",
       "1      Team Fortress Classic    Steam             1999  Action   \n",
       "2              Day of Defeat    Steam             2003  Action   \n",
       "3         Deathmatch Classic    Steam             2001  Action   \n",
       "4  Half-Life: Opposing Force    Steam             1999  Action   \n",
       "\n",
       "          developer publisher  user_score  \n",
       "0             Valve     Valve    9.738882  \n",
       "1             Valve     Valve    8.397874  \n",
       "2             Valve     Valve    8.956476  \n",
       "3             Valve     Valve    8.266234  \n",
       "4  Gearbox Software     Valve    9.479957  "
      ],
      "text/html": "<div>\n<style scoped>\n    .dataframe tbody tr th:only-of-type {\n        vertical-align: middle;\n    }\n\n    .dataframe tbody tr th {\n        vertical-align: top;\n    }\n\n    .dataframe thead th {\n        text-align: right;\n    }\n</style>\n<table border=\"1\" class=\"dataframe\">\n  <thead>\n    <tr style=\"text-align: right;\">\n      <th></th>\n      <th>name</th>\n      <th>platform</th>\n      <th>year_of_release</th>\n      <th>genre</th>\n      <th>developer</th>\n      <th>publisher</th>\n      <th>user_score</th>\n    </tr>\n  </thead>\n  <tbody>\n    <tr>\n      <th>0</th>\n      <td>Counter-Strike</td>\n      <td>Steam</td>\n      <td>2000</td>\n      <td>Action</td>\n      <td>Valve</td>\n      <td>Valve</td>\n      <td>9.738882</td>\n    </tr>\n    <tr>\n      <th>1</th>\n      <td>Team Fortress Classic</td>\n      <td>Steam</td>\n      <td>1999</td>\n      <td>Action</td>\n      <td>Valve</td>\n      <td>Valve</td>\n      <td>8.397874</td>\n    </tr>\n    <tr>\n      <th>2</th>\n      <td>Day of Defeat</td>\n      <td>Steam</td>\n      <td>2003</td>\n      <td>Action</td>\n      <td>Valve</td>\n      <td>Valve</td>\n      <td>8.956476</td>\n    </tr>\n    <tr>\n      <th>3</th>\n      <td>Deathmatch Classic</td>\n      <td>Steam</td>\n      <td>2001</td>\n      <td>Action</td>\n      <td>Valve</td>\n      <td>Valve</td>\n      <td>8.266234</td>\n    </tr>\n    <tr>\n      <th>4</th>\n      <td>Half-Life: Opposing Force</td>\n      <td>Steam</td>\n      <td>1999</td>\n      <td>Action</td>\n      <td>Gearbox Software</td>\n      <td>Valve</td>\n      <td>9.479957</td>\n    </tr>\n  </tbody>\n</table>\n</div>"
     },
     "metadata": {},
     "execution_count": 200
    }
   ],
   "source": [
    "columns = {\n",
    "    'platforms_steam':'platform',\n",
    "    'genres':'genre',\n",
    "    'developer':'developer',\n",
    "    'publisher':'publisher',\n",
    "    'release_year':'year_of_release',\n",
    "    'User_Score':'user_score'}\n",
    "steam_clean.rename(columns = columns, inplace=True)\n",
    "steam_clean.head()"
   ]
  },
  {
   "source": [
    "## Store DataFrames in MongoDB"
   ],
   "cell_type": "markdown",
   "metadata": {}
  },
  {
   "cell_type": "code",
   "execution_count": 201,
   "metadata": {},
   "outputs": [],
   "source": [
    "import pymongo"
   ]
  },
  {
   "cell_type": "code",
   "execution_count": 202,
   "metadata": {},
   "outputs": [],
   "source": [
    "# The default port used by MongoDB is 27017\n",
    "# https://docs.mongodb.com/manual/reference/default-mongodb-port/\n",
    "conn = 'mongodb://localhost:27017'\n",
    "client = pymongo.MongoClient(conn)\n",
    "\n",
    "# Define the 'classDB' database in Mongo\n",
    "db = client.VideoGamesDB"
   ]
  },
  {
   "cell_type": "code",
   "execution_count": 203,
   "metadata": {},
   "outputs": [
    {
     "output_type": "execute_result",
     "data": {
      "text/plain": [
       "<pymongo.results.InsertManyResult at 0x2334d41e5c8>"
      ]
     },
     "metadata": {},
     "execution_count": 203
    }
   ],
   "source": [
    "# console_compact.reset_index(inplace=True)\n",
    "console_dict = console_clean.to_dict(\"records\")\n",
    "db.console.insert_many(console_dict)"
   ]
  },
  {
   "cell_type": "code",
   "execution_count": 204,
   "metadata": {},
   "outputs": [
    {
     "output_type": "execute_result",
     "data": {
      "text/plain": [
       "<pymongo.results.InsertManyResult at 0x2334fed3708>"
      ]
     },
     "metadata": {},
     "execution_count": 204
    }
   ],
   "source": [
    "# console_compact.reset_index(inplace=True)\n",
    "steam_dict = steam_clean.to_dict(\"records\")\n",
    "db.steam.insert_many(steam_dict)"
   ]
  },
  {
   "cell_type": "code",
   "execution_count": null,
   "metadata": {},
   "outputs": [],
   "source": []
  },
  {
   "cell_type": "code",
   "execution_count": null,
   "metadata": {},
   "outputs": [],
   "source": []
  },
  {
   "cell_type": "code",
   "execution_count": null,
   "metadata": {},
   "outputs": [],
   "source": []
  },
  {
   "cell_type": "code",
   "execution_count": 205,
   "metadata": {},
   "outputs": [
    {
     "output_type": "error",
     "ename": "NameError",
     "evalue": "name 'stop' is not defined",
     "traceback": [
      "\u001b[1;31m---------------------------------------------------------------------------\u001b[0m",
      "\u001b[1;31mNameError\u001b[0m                                 Traceback (most recent call last)",
      "\u001b[1;32m<ipython-input-205-4f76a9dad686>\u001b[0m in \u001b[0;36m<module>\u001b[1;34m\u001b[0m\n\u001b[1;32m----> 1\u001b[1;33m \u001b[0mstop\u001b[0m\u001b[1;33m\u001b[0m\u001b[1;33m\u001b[0m\u001b[0m\n\u001b[0m",
      "\u001b[1;31mNameError\u001b[0m: name 'stop' is not defined"
     ]
    }
   ],
   "source": [
    "stop"
   ]
  },
  {
   "cell_type": "code",
   "execution_count": null,
   "metadata": {},
   "outputs": [],
   "source": [
    "# Find min User Score\n",
    "console_compact['User_Score'].dropna().min()"
   ]
  },
  {
   "cell_type": "code",
   "execution_count": null,
   "metadata": {},
   "outputs": [],
   "source": [
    "## Check unique value counts\n",
    "pd.DataFrame(main_genre)[0].value_counts(ascending=False)"
   ]
  },
  {
   "cell_type": "code",
   "execution_count": 266,
   "metadata": {},
   "outputs": [
    {
     "output_type": "execute_result",
     "data": {
      "text/plain": [
       "Name                object\n",
       "Platform            object\n",
       "Year_of_Release    float64\n",
       "Genre               object\n",
       "Developer           object\n",
       "Publisher           object\n",
       "User_Score          object\n",
       "dtype: object"
      ]
     },
     "metadata": {},
     "execution_count": 266
    }
   ],
   "source": [
    "console_compact.dtypes"
   ]
  },
  {
   "cell_type": "code",
   "execution_count": 95,
   "metadata": {},
   "outputs": [
    {
     "output_type": "execute_result",
     "data": {
      "text/plain": [
       "name                object\n",
       "platforms           object\n",
       "release_date         int64\n",
       "genres              object\n",
       "developer           object\n",
       "publisher           object\n",
       "positive_ratings     int64\n",
       "negative_ratings     int64\n",
       "dtype: object"
      ]
     },
     "metadata": {},
     "execution_count": 95
    }
   ],
   "source": [
    "steam_compact.dtypes"
   ]
  },
  {
   "cell_type": "code",
   "execution_count": null,
   "metadata": {},
   "outputs": [],
   "source": [
    "## Check unique value counts\n",
    "console_compact['Platform'].value_counts()"
   ]
  }
 ],
 "metadata": {
  "kernelspec": {
   "name": "pythondata",
   "display_name": "Python 3.6.10 64-bit ('PythonData': conda)"
  },
  "language_info": {
   "codemirror_mode": {
    "name": "ipython",
    "version": 3
   },
   "file_extension": ".py",
   "mimetype": "text/x-python",
   "name": "python",
   "nbconvert_exporter": "python",
   "pygments_lexer": "ipython3",
   "version": "3.6.10"
  },
  "interpreter": {
   "hash": "6df7a64a006c2d04527986e5d22de7d45e568162a61eafa714177317653674a0"
  }
 },
 "nbformat": 4,
 "nbformat_minor": 2
}