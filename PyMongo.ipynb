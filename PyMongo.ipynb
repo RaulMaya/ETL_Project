{
 "metadata": {
  "language_info": {
   "codemirror_mode": {
    "name": "ipython",
    "version": 3
   },
   "file_extension": ".py",
   "mimetype": "text/x-python",
   "name": "python",
   "nbconvert_exporter": "python",
   "pygments_lexer": "ipython3",
   "version": "3.6.10"
  },
  "orig_nbformat": 4,
  "kernelspec": {
   "name": "python3",
   "display_name": "Python 3.6.10 64-bit ('PythonData': conda)"
  },
  "interpreter": {
   "hash": "6df7a64a006c2d04527986e5d22de7d45e568162a61eafa714177317653674a0"
  }
 },
 "nbformat": 4,
 "nbformat_minor": 2,
 "cells": [
  {
   "cell_type": "code",
   "execution_count": 36,
   "metadata": {},
   "outputs": [],
   "source": [
    "import numpy as np\n",
    "import pymongo"
   ]
  },
  {
   "cell_type": "code",
   "execution_count": 2,
   "metadata": {},
   "outputs": [],
   "source": [
    "# The default port used by MongoDB is 27017\n",
    "# https://docs.mongodb.com/manual/reference/default-mongodb-port/\n",
    "conn = 'mongodb://localhost:27017'\n",
    "client = pymongo.MongoClient(conn)\n",
    "\n",
    "# Define the 'classDB' database in Mongo\n",
    "db = client.VideoGamesDB"
   ]
  },
  {
   "cell_type": "code",
   "execution_count": 7,
   "metadata": {},
   "outputs": [],
   "source": [
    "results = db.steam.find({'genres':'Action'})"
   ]
  },
  {
   "cell_type": "code",
   "execution_count": 8,
   "metadata": {
    "tags": [
     "outputPrepend"
    ]
   },
   "outputs": [
    {
     "output_type": "stream",
     "name": "stdout",
     "text": [
      "id': ObjectId('60c2ae9740e537af1fc672a7'), 'name': 'One Gun: Cat', 'platforms': 'windows', 'release_date': datetime.datetime(2018, 10, 19, 0, 0), 'genres': 'Action', 'developer': 'Erow.Dev', 'publisher': 'Erow.Dev', 'positive_ratings': 32, 'negative_ratings': 9, 'platforms_steam': 'Steam', 'release_year': 2018}\n{'_id': ObjectId('60c2ae9740e537af1fc672a9'), 'name': 'Conjure Strike', 'platforms': 'windows', 'release_date': datetime.datetime(2018, 9, 28, 0, 0), 'genres': 'Action', 'developer': 'The Strike Team', 'publisher': 'The Strike Team', 'positive_ratings': 1, 'negative_ratings': 2, 'platforms_steam': 'Steam', 'release_year': 2018}\n{'_id': ObjectId('60c2ae9740e537af1fc672ef'), 'name': 'R-Type Dimensions EX', 'platforms': 'windows', 'release_date': datetime.datetime(2018, 11, 28, 0, 0), 'genres': 'Action', 'developer': 'Tozai Games, Inc.;ESQUADRA,inc.', 'publisher': 'Tozai Games, Inc.', 'positive_ratings': 73, 'negative_ratings': 7, 'platforms_steam': 'Steam', 'release_year': 2018}\n{'_id': ObjectId('60c2ae9740e537af1fc6744b'), 'name': 'Combo Jumper', 'platforms': 'windows', 'release_date': datetime.datetime(2018, 10, 24, 0, 0), 'genres': 'Action', 'developer': 'Veathen Games', 'publisher': 'Veathen Games', 'positive_ratings': 3, 'negative_ratings': 0, 'platforms_steam': 'Steam', 'release_year': 2018}\n{'_id': ObjectId('60c2ae9740e537af1fc6747f'), 'name': 'Criminal Pursuit Force', 'platforms': 'windows', 'release_date': datetime.datetime(2018, 10, 7, 0, 0), 'genres': 'Action', 'developer': 'Bleeding Edge Studio', 'publisher': 'Bleeding Edge Studio', 'positive_ratings': 4, 'negative_ratings': 8, 'platforms_steam': 'Steam', 'release_year': 2018}\n{'_id': ObjectId('60c2ae9740e537af1fc67488'), 'name': 'Rapid Fire', 'platforms': 'windows', 'release_date': datetime.datetime(2018, 12, 9, 0, 0), 'genres': 'Action', 'developer': '3D FACTORY', 'publisher': '3D FACTORY', 'positive_ratings': 14, 'negative_ratings': 0, 'platforms_steam': 'Steam', 'release_year': 2018}\n{'_id': ObjectId('60c2ae9740e537af1fc674b0'), 'name': 'Thunder Kid', 'platforms': 'windows;mac', 'release_date': datetime.datetime(2018, 10, 22, 0, 0), 'genres': 'Action', 'developer': 'Renegade Sector Games', 'publisher': 'Renegade Sector Games', 'positive_ratings': 15, 'negative_ratings': 0, 'platforms_steam': 'Steam', 'release_year': 2018}\n{'_id': ObjectId('60c2ae9740e537af1fc674c5'), 'name': 'Zombie Builder Defense', 'platforms': 'windows', 'release_date': datetime.datetime(2018, 11, 2, 0, 0), 'genres': 'Action', 'developer': 'NOHAM Games', 'publisher': 'NOHAM Games', 'positive_ratings': 96, 'negative_ratings': 15, 'platforms_steam': 'Steam', 'release_year': 2018}\n{'_id': ObjectId('60c2ae9740e537af1fc674e8'), 'name': 'RPGGAME', 'platforms': 'windows', 'release_date': datetime.datetime(2018, 10, 25, 0, 0), 'genres': 'Action', 'developer': 'RPGGAME', 'publisher': 'RPGGAME.', 'positive_ratings': 5, 'negative_ratings': 0, 'platforms_steam': 'Steam', 'release_year': 2018}\n{'_id': ObjectId('60c2ae9740e537af1fc67524'), 'name': 'Puppet Blaster', 'platforms': 'windows', 'release_date': datetime.datetime(2018, 10, 16, 0, 0), 'genres': 'Action', 'developer': 'Mad Gnolas', 'publisher': 'self published', 'positive_ratings': 12, 'negative_ratings': 0, 'platforms_steam': 'Steam', 'release_year': 2018}\n{'_id': ObjectId('60c2ae9740e537af1fc67565'), 'name': 'Super Potato Bruh', 'platforms': 'windows;linux', 'release_date': datetime.datetime(2018, 10, 20, 0, 0), 'genres': 'Action', 'developer': 'DaFluffyPotato', 'publisher': 'DaFluffyPotato', 'positive_ratings': 7, 'negative_ratings': 1, 'platforms_steam': 'Steam', 'release_year': 2018}\n{'_id': ObjectId('60c2ae9740e537af1fc6757a'), 'name': 'Surrogate', 'platforms': 'windows', 'release_date': datetime.datetime(2018, 10, 23, 0, 0), 'genres': 'Action', 'developer': 'Quiet Storm', 'publisher': 'Quiet Storm', 'positive_ratings': 1, 'negative_ratings': 0, 'platforms_steam': 'Steam', 'release_year': 2018}\n{'_id': ObjectId('60c2ae9740e537af1fc675b6'), 'name': 'Flank That Tank!', 'platforms': 'windows;linux', 'release_date': datetime.datetime(2018, 10, 17, 0, 0), 'genres': 'Action', 'developer': 'Game Studio Abraham Stolk Inc.', 'publisher': 'Game Studio Abraham Stolk Inc.', 'positive_ratings': 2, 'negative_ratings': 0, 'platforms_steam': 'Steam', 'release_year': 2018}\n{'_id': ObjectId('60c2ae9740e537af1fc6760d'), 'name': 'BATTLE X Arcade', 'platforms': 'windows', 'release_date': datetime.datetime(2018, 10, 25, 0, 0), 'genres': 'Action', 'developer': 'Naviworks Co.,Ltd.', 'publisher': 'Naviworks Co.,Ltd.', 'positive_ratings': 0, 'negative_ratings': 1, 'platforms_steam': 'Steam', 'release_year': 2018}\n{'_id': ObjectId('60c2ae9740e537af1fc67624'), 'name': 'American Patriots: The Swamp Fox', 'platforms': 'windows', 'release_date': datetime.datetime(2018, 10, 31, 0, 0), 'genres': 'Action', 'developer': 'Cult Software', 'publisher': 'Cult Software', 'positive_ratings': 2, 'negative_ratings': 3, 'platforms_steam': 'Steam', 'release_year': 2018}\n{'_id': ObjectId('60c2ae9740e537af1fc6766c'), 'name': 'IScream', 'platforms': 'windows', 'release_date': datetime.datetime(2018, 11, 6, 0, 0), 'genres': 'Action', 'developer': 'Vanhees Dean', 'publisher': 'Vanhees Dean', 'positive_ratings': 3, 'negative_ratings': 0, 'platforms_steam': 'Steam', 'release_year': 2018}\n{'_id': ObjectId('60c2ae9740e537af1fc67692'), 'name': 'Aim Theory - Trainer', 'platforms': 'windows', 'release_date': datetime.datetime(2018, 11, 20, 0, 0), 'genres': 'Action', 'developer': 'Aim Theory Master', 'publisher': 'Aim Theory', 'positive_ratings': 6, 'negative_ratings': 2, 'platforms_steam': 'Steam', 'release_year': 2018}\n{'_id': ObjectId('60c2ae9740e537af1fc676b7'), 'name': 'ROGO', 'platforms': 'windows', 'release_date': datetime.datetime(2018, 12, 17, 0, 0), 'genres': 'Action', 'developer': 'Happy Snake', 'publisher': 'Happy Snake Games', 'positive_ratings': 6, 'negative_ratings': 0, 'platforms_steam': 'Steam', 'release_year': 2018}\n{'_id': ObjectId('60c2ae9740e537af1fc676e9'), 'name': 'Special Counter Force Attack', 'platforms': 'windows', 'release_date': datetime.datetime(2019, 2, 8, 0, 0), 'genres': 'Action', 'developer': 'Bleeding Edge Studio', 'publisher': 'Bleeding Edge Studio', 'positive_ratings': 7, 'negative_ratings': 5, 'platforms_steam': 'Steam', 'release_year': 2019}\n{'_id': ObjectId('60c2ae9740e537af1fc67706'), 'name': 'DYNASTY WARRIORS 7: Xtreme Legends Definitive Edition / 真・三國無双６ with 猛将伝 DX', 'platforms': 'windows', 'release_date': datetime.datetime(2018, 12, 5, 0, 0), 'genres': 'Action', 'developer': 'KOEI TECMO GAMES CO., LTD.', 'publisher': 'KOEI TECMO GAMES CO., LTD.', 'positive_ratings': 168, 'negative_ratings': 34, 'platforms_steam': 'Steam', 'release_year': 2018}\n{'_id': ObjectId('60c2ae9740e537af1fc6771b'), 'name': 'Trinity VR', 'platforms': 'windows', 'release_date': datetime.datetime(2018, 11, 20, 0, 0), 'genres': 'Action', 'developer': 'UNLTD inc.', 'publisher': 'UNLTD inc.', 'positive_ratings': 7, 'negative_ratings': 7, 'platforms_steam': 'Steam', 'release_year': 2018}\n{'_id': ObjectId('60c2ae9740e537af1fc67738'), 'name': \"Anubis' Challenge\", 'platforms': 'windows', 'release_date': datetime.datetime(2018, 11, 16, 0, 0), 'genres': 'Action', 'developer': 'Noblemen VR', 'publisher': 'Noblemen VR', 'positive_ratings': 14, 'negative_ratings': 0, 'platforms_steam': 'Steam', 'release_year': 2018}\n{'_id': ObjectId('60c2ae9740e537af1fc6773a'), 'name': 'Robert Rodriguez’s THE LIMIT: An Immersive Cinema Experience', 'platforms': 'windows', 'release_date': datetime.datetime(2018, 11, 21, 0, 0), 'genres': 'Action', 'developer': 'STXsurreal', 'publisher': 'STXsurreal', 'positive_ratings': 34, 'negative_ratings': 22, 'platforms_steam': 'Steam', 'release_year': 2018}\n{'_id': ObjectId('60c2ae9740e537af1fc6773e'), 'name': 'FPS Training', 'platforms': 'windows', 'release_date': datetime.datetime(2018, 12, 14, 0, 0), 'genres': 'Action', 'developer': 'Drago Software', 'publisher': 'Drago Software', 'positive_ratings': 27, 'negative_ratings': 12, 'platforms_steam': 'Steam', 'release_year': 2018}\n{'_id': ObjectId('60c2ae9740e537af1fc67790'), 'name': 'Hentai Shooter 3D: Christmas Party', 'platforms': 'windows', 'release_date': datetime.datetime(2018, 11, 20, 0, 0), 'genres': 'Action', 'developer': 'КиКо', 'publisher': 'КиКо', 'positive_ratings': 109, 'negative_ratings': 27, 'platforms_steam': 'Steam', 'release_year': 2018}\n{'_id': ObjectId('60c2ae9740e537af1fc67795'), 'name': 'Dick Wilde 2', 'platforms': 'windows', 'release_date': datetime.datetime(2019, 2, 19, 0, 0), 'genres': 'Action', 'developer': 'Bolverk Games', 'publisher': 'PlayStack', 'positive_ratings': 11, 'negative_ratings': 1, 'platforms_steam': 'Steam', 'release_year': 2019}\n{'_id': ObjectId('60c2ae9740e537af1fc67798'), 'name': 'METAL SLUG XX', 'platforms': 'windows', 'release_date': datetime.datetime(2019, 1, 31, 0, 0), 'genres': 'Action', 'developer': 'SNK CORPORATION', 'publisher': 'SNK CORPORATION', 'positive_ratings': 70, 'negative_ratings': 69, 'platforms_steam': 'Steam', 'release_year': 2019}\n{'_id': ObjectId('60c2ae9740e537af1fc677be'), 'name': 'The Great Emu War', 'platforms': 'windows', 'release_date': datetime.datetime(2018, 12, 11, 0, 0), 'genres': 'Action', 'developer': 'Suspicious Box', 'publisher': 'Suspicious Box', 'positive_ratings': 7, 'negative_ratings': 4, 'platforms_steam': 'Steam', 'release_year': 2018}\n{'_id': ObjectId('60c2ae9740e537af1fc67827'), 'name': 'Crome: Before Purgatory', 'platforms': 'windows;mac', 'release_date': datetime.datetime(2019, 1, 29, 0, 0), 'genres': 'Action', 'developer': 'Stumphead Games', 'publisher': 'Stumphead Games', 'positive_ratings': 13, 'negative_ratings': 1, 'platforms_steam': 'Steam', 'release_year': 2019}\n{'_id': ObjectId('60c2ae9740e537af1fc678a8'), 'name': 'Raid on the Ruhr', 'platforms': 'windows', 'release_date': datetime.datetime(2019, 3, 28, 0, 0), 'genres': 'Action', 'developer': 'Immersive VR Education Ltd', 'publisher': 'Immersive VR Education Ltd', 'positive_ratings': 3, 'negative_ratings': 0, 'platforms_steam': 'Steam', 'release_year': 2019}\n{'_id': ObjectId('60c2ae9740e537af1fc678af'), 'name': 'Shadow Uprising', 'platforms': 'windows', 'release_date': datetime.datetime(2018, 12, 14, 0, 0), 'genres': 'Action', 'developer': 'Amber Eye Studio', 'publisher': 'InvestVR', 'positive_ratings': 17, 'negative_ratings': 0, 'platforms_steam': 'Steam', 'release_year': 2018}\n{'_id': ObjectId('60c2ae9740e537af1fc678bb'), 'name': 'ASTRONEST VR', 'platforms': 'windows', 'release_date': datetime.datetime(2019, 2, 28, 0, 0), 'genres': 'Action', 'developer': 'AN GAMES Co.,Ltd', 'publisher': 'AN GAMES Co.,Ltd', 'positive_ratings': 0, 'negative_ratings': 3, 'platforms_steam': 'Steam', 'release_year': 2019}\n{'_id': ObjectId('60c2ae9740e537af1fc6797d'), 'name': 'Ninja Power Slasher', 'platforms': 'windows', 'release_date': datetime.datetime(2019, 1, 28, 0, 0), 'genres': 'Action', 'developer': 'Scrountch_Studio', 'publisher': 'Scrountch_Studio', 'positive_ratings': 1, 'negative_ratings': 1, 'platforms_steam': 'Steam', 'release_year': 2019}\n{'_id': ObjectId('60c2ae9740e537af1fc67991'), 'name': 'Cortex', 'platforms': 'windows;mac;linux', 'release_date': datetime.datetime(2018, 12, 28, 0, 0), 'genres': 'Action', 'developer': 'Milan Toth', 'publisher': 'Milan Toth', 'positive_ratings': 5, 'negative_ratings': 0, 'platforms_steam': 'Steam', 'release_year': 2018}\n{'_id': ObjectId('60c2ae9740e537af1fc67993'), 'name': 'The Colony', 'platforms': 'windows', 'release_date': datetime.datetime(2018, 12, 27, 0, 0), 'genres': 'Action', 'developer': 'Andrew Augustine;Zach Augustine', 'publisher': 'Monkeystein Games', 'positive_ratings': 2, 'negative_ratings': 2, 'platforms_steam': 'Steam', 'release_year': 2018}\n{'_id': ObjectId('60c2ae9740e537af1fc67995'), 'name': 'Psyvariar Delta', 'platforms': 'windows', 'release_date': datetime.datetime(2019, 1, 30, 0, 0), 'genres': 'Action', 'developer': 'CITY CONNECTION', 'publisher': 'CITY CONNECTION', 'positive_ratings': 15, 'negative_ratings': 1, 'platforms_steam': 'Steam', 'release_year': 2019}\n{'_id': ObjectId('60c2ae9740e537af1fc679a2'), 'name': 'BLASTER LiLO', 'platforms': 'windows', 'release_date': datetime.datetime(2018, 12, 28, 0, 0), 'genres': 'Action', 'developer': 'Fabio Cardini', 'publisher': 'Fabio Cardini', 'positive_ratings': 1, 'negative_ratings': 0, 'platforms_steam': 'Steam', 'release_year': 2018}\n{'_id': ObjectId('60c2ae9740e537af1fc679ea'), 'name': 'Freefall 3050AD', 'platforms': 'windows', 'release_date': datetime.datetime(2019, 1, 22, 0, 0), 'genres': 'Action', 'developer': 'Total ArKade Software', 'publisher': 'TAKS', 'positive_ratings': 0, 'negative_ratings': 1, 'platforms_steam': 'Steam', 'release_year': 2019}\n{'_id': ObjectId('60c2ae9740e537af1fc679f3'), 'name': 'Fireboy & Watergirl: Elements', 'platforms': 'windows;mac', 'release_date': datetime.datetime(2019, 1, 24, 0, 0), 'genres': 'Action', 'developer': 'Oslo Albet', 'publisher': 'Oslo Albet', 'positive_ratings': 30, 'negative_ratings': 3, 'platforms_steam': 'Steam', 'release_year': 2019}\n{'_id': ObjectId('60c2ae9740e537af1fc679fe'), 'name': 'time of the zombies', 'platforms': 'windows', 'release_date': datetime.datetime(2019, 1, 22, 0, 0), 'genres': 'Action', 'developer': 'kessels game studio', 'publisher': 'kessels game studio', 'positive_ratings': 5, 'negative_ratings': 5, 'platforms_steam': 'Steam', 'release_year': 2019}\n{'_id': ObjectId('60c2ae9740e537af1fc67a45'), 'name': 'Brawl', 'platforms': 'windows;mac', 'release_date': datetime.datetime(2019, 1, 20, 0, 0), 'genres': 'Action', 'developer': 'Milan Toth', 'publisher': 'Milan Toth', 'positive_ratings': 6, 'negative_ratings': 0, 'platforms_steam': 'Steam', 'release_year': 2019}\n{'_id': ObjectId('60c2ae9740e537af1fc67a5b'), 'name': '孙悟空大战机器金刚 / Sun Wukong VS Robot', 'platforms': 'windows;mac', 'release_date': datetime.datetime(2019, 1, 20, 0, 0), 'genres': 'Action', 'developer': 'Bitca', 'publisher': 'Bitca', 'positive_ratings': 48, 'negative_ratings': 0, 'platforms_steam': 'Steam', 'release_year': 2019}\n{'_id': ObjectId('60c2ae9740e537af1fc67a5d'), 'name': 'Excive A-1000', 'platforms': 'windows', 'release_date': datetime.datetime(2019, 4, 18, 0, 0), 'genres': 'Action', 'developer': 'Droid Riot;Mahich', 'publisher': 'Droid Riot', 'positive_ratings': 9, 'negative_ratings': 1, 'platforms_steam': 'Steam', 'release_year': 2019}\n{'_id': ObjectId('60c2ae9740e537af1fc67a63'), 'name': 'Zombie Killer - Type to Shoot!', 'platforms': 'windows', 'release_date': datetime.datetime(2019, 2, 17, 0, 0), 'genres': 'Action', 'developer': 'MOERS INC', 'publisher': 'MOERS INC', 'positive_ratings': 0, 'negative_ratings': 1, 'platforms_steam': 'Steam', 'release_year': 2019}\n{'_id': ObjectId('60c2ae9840e537af1fc67a8a'), 'name': 'Aztec Tower', 'platforms': 'windows', 'release_date': datetime.datetime(2019, 1, 22, 0, 0), 'genres': 'Action', 'developer': 'Paul Schwörer', 'publisher': 'Paul Schwörer', 'positive_ratings': 1, 'negative_ratings': 1, 'platforms_steam': 'Steam', 'release_year': 2019}\n{'_id': ObjectId('60c2ae9840e537af1fc67a95'), 'name': 'Bleeding Hunt VR Chap.1', 'platforms': 'windows', 'release_date': datetime.datetime(2019, 3, 18, 0, 0), 'genres': 'Action', 'developer': 'XAC Inc.', 'publisher': 'XAC Inc.', 'positive_ratings': 29, 'negative_ratings': 9, 'platforms_steam': 'Steam', 'release_year': 2019}\n{'_id': ObjectId('60c2ae9840e537af1fc67acd'), 'name': 'AntiPodal', 'platforms': 'windows;mac', 'release_date': datetime.datetime(2019, 3, 22, 0, 0), 'genres': 'Action', 'developer': 'Liam Dehaudt', 'publisher': 'Liam Dehaudt', 'positive_ratings': 5, 'negative_ratings': 0, 'platforms_steam': 'Steam', 'release_year': 2019}\n{'_id': ObjectId('60c2ae9840e537af1fc67afb'), 'name': 'Hentai Shooter 2: World Tour', 'platforms': 'windows', 'release_date': datetime.datetime(2019, 3, 23, 0, 0), 'genres': 'Action', 'developer': 'КиКо', 'publisher': 'КиКо', 'positive_ratings': 25, 'negative_ratings': 4, 'platforms_steam': 'Steam', 'release_year': 2019}\n{'_id': ObjectId('60c2ae9840e537af1fc67bb3'), 'name': 'Super Nitrous Zoomer', 'platforms': 'windows', 'release_date': datetime.datetime(2019, 2, 14, 0, 0), 'genres': 'Action', 'developer': 'Virtual Bridgeworks', 'publisher': 'VT Publishing', 'positive_ratings': 0, 'negative_ratings': 1, 'platforms_steam': 'Steam', 'release_year': 2019}\n{'_id': ObjectId('60c2ae9840e537af1fc67bc7'), 'name': 'Spattle Cats', 'platforms': 'windows', 'release_date': datetime.datetime(2019, 2, 16, 0, 0), 'genres': 'Action', 'developer': 'Virtual Bridgeworks', 'publisher': 'VT Publishing', 'positive_ratings': 0, 'negative_ratings': 2, 'platforms_steam': 'Steam', 'release_year': 2019}\n{'_id': ObjectId('60c2ae9840e537af1fc67bd8'), 'name': '222', 'platforms': 'windows', 'release_date': datetime.datetime(2019, 2, 22, 0, 0), 'genres': 'Action', 'developer': 'David Mulder', 'publisher': 'David Mulder', 'positive_ratings': 4, 'negative_ratings': 4, 'platforms_steam': 'Steam', 'release_year': 2019}\n{'_id': ObjectId('60c2ae9840e537af1fc67be9'), 'name': 'Snow Battle Princess SAYUKI | 雪ん娘大旋風', 'platforms': 'windows', 'release_date': datetime.datetime(2019, 3, 20, 0, 0), 'genres': 'Action', 'developer': 'Joyfulstar', 'publisher': 'Joyfulstar', 'positive_ratings': 14, 'negative_ratings': 1, 'platforms_steam': 'Steam', 'release_year': 2019}\n{'_id': ObjectId('60c2ae9840e537af1fc67c28'), 'name': 'Shop Battle', 'platforms': 'windows', 'release_date': datetime.datetime(2019, 3, 3, 0, 0), 'genres': 'Action', 'developer': 'stariy8419', 'publisher': 'stariy8419', 'positive_ratings': 1, 'negative_ratings': 0, 'platforms_steam': 'Steam', 'release_year': 2019}\n{'_id': ObjectId('60c2ae9840e537af1fc67c29'), 'name': 'The Witchcraft of Skysword - 天翔と剣のウィッチクラフト', 'platforms': 'windows', 'release_date': datetime.datetime(2019, 2, 25, 0, 0), 'genres': 'Action', 'developer': 'toRipota', 'publisher': 'toRipota', 'positive_ratings': 1, 'negative_ratings': 0, 'platforms_steam': 'Steam', 'release_year': 2019}\n{'_id': ObjectId('60c2ae9840e537af1fc67c3a'), 'name': 'Romans from Mars (Free-to-Play)', 'platforms': 'windows', 'release_date': datetime.datetime(2019, 3, 19, 0, 0), 'genres': 'Action', 'developer': 'Sidekick', 'publisher': 'Majesco', 'positive_ratings': 2, 'negative_ratings': 1, 'platforms_steam': 'Steam', 'release_year': 2019}\n{'_id': ObjectId('60c2ae9840e537af1fc67c3d'), 'name': 'Bears in Tanks', 'platforms': 'windows', 'release_date': datetime.datetime(2019, 3, 31, 0, 0), 'genres': 'Action', 'developer': 'Dragonside Studios', 'publisher': 'Dragonside Studios', 'positive_ratings': 1, 'negative_ratings': 0, 'platforms_steam': 'Steam', 'release_year': 2019}\n{'_id': ObjectId('60c2ae9840e537af1fc67c75'), 'name': 'Seven Bullets Zombie Apocalypse', 'platforms': 'windows', 'release_date': datetime.datetime(2019, 4, 18, 0, 0), 'genres': 'Action', 'developer': 'Skull Box Games', 'publisher': 'КиКо', 'positive_ratings': 13, 'negative_ratings': 0, 'platforms_steam': 'Steam', 'release_year': 2019}\n{'_id': ObjectId('60c2ae9840e537af1fc67cfc'), 'name': 'BUTCHERBOX', 'platforms': 'windows', 'release_date': datetime.datetime(2019, 3, 24, 0, 0), 'genres': 'Action', 'developer': 'David Mulder', 'publisher': 'David Mulder', 'positive_ratings': 4, 'negative_ratings': 0, 'platforms_steam': 'Steam', 'release_year': 2019}\n{'_id': ObjectId('60c2ae9840e537af1fc67d0d'), 'name': 'Die Already', 'platforms': 'windows;mac;linux', 'release_date': datetime.datetime(2019, 4, 1, 0, 0), 'genres': 'Action', 'developer': 'stariy8419', 'publisher': 'stariy8419', 'positive_ratings': 1, 'negative_ratings': 0, 'platforms_steam': 'Steam', 'release_year': 2019}\n{'_id': ObjectId('60c2ae9840e537af1fc67d54'), 'name': 'Lover Bands', 'platforms': 'windows;mac', 'release_date': datetime.datetime(2019, 4, 19, 0, 0), 'genres': 'Action', 'developer': 'Paper Fan Games', 'publisher': 'Paper Fan Games', 'positive_ratings': 5, 'negative_ratings': 1, 'platforms_steam': 'Steam', 'release_year': 2019}\n"
     ]
    }
   ],
   "source": [
    "for result in results:\n",
    "    print(result)"
   ]
  },
  {
   "cell_type": "code",
   "execution_count": 59,
   "metadata": {},
   "outputs": [],
   "source": [
    "# results = db.console.find({'User_Score': {'$ne': 'tbd'}})\n",
    "# results = db.console.find({'User_Score': {'$ne': np.nan}})\n",
    "results = db.console.find({'$and': [{'User_Score': {'$ne':np.nan}, 'User_Score': {'$ne': 'tbd'}}]})"
   ]
  },
  {
   "cell_type": "code",
   "execution_count": 60,
   "metadata": {
    "tags": [
     "outputPrepend"
    ]
   },
   "outputs": [
    {
     "output_type": "stream",
     "name": "stdout",
     "text": [
      "60c2ae3e40e537af1fc612e2'), 'Name': 'Monster Bomber', 'Platform': 'DS', 'Year_of_Release': 2006.0, 'Genre': 'Puzzle', 'Developer': 'Taito Corporation', 'Publisher': '505 Games', 'User_Score': 'tbd'}\n",
      "{'_id': ObjectId('60c2ae3e40e537af1fc612e5'), 'Name': 'Young Justice: Legacy', 'Platform': 'X360', 'Year_of_Release': 2013.0, 'Genre': 'Action', 'Developer': 'Freedom Factory Studios', 'Publisher': 'Namco Bandai Games', 'User_Score': '6.2'}\n",
      "{'_id': ObjectId('60c2ae3e40e537af1fc612e8'), 'Name': 'TrackMania Turbo', 'Platform': 'PC', 'Year_of_Release': 2016.0, 'Genre': 'Action', 'Developer': 'Nadeo', 'Publisher': 'Ubisoft', 'User_Score': '6.8'}\n",
      "{'_id': ObjectId('60c2ae3e40e537af1fc612ec'), 'Name': 'Crouching Tiger, Hidden Dragon', 'Platform': 'XB', 'Year_of_Release': 2003.0, 'Genre': 'Action', 'Developer': 'Genki', 'Publisher': 'Ubisoft', 'User_Score': 'tbd'}\n",
      "{'_id': ObjectId('60c2ae3e40e537af1fc612ee'), 'Name': 'Fullmetal Alchemist: Trading Card Game', 'Platform': 'DS', 'Year_of_Release': 2007.0, 'Genre': 'Misc', 'Developer': 'Magellan Interactive', 'Publisher': 'Destineer', 'User_Score': '7.5'}\n",
      "{'_id': ObjectId('60c2ae3e40e537af1fc612ef'), 'Name': 'Super Bubble Pop', 'Platform': 'XB', 'Year_of_Release': 2002.0, 'Genre': 'Puzzle', 'Developer': 'Runecraft', 'Publisher': 'Jaleco', 'User_Score': 'tbd'}\n",
      "{'_id': ObjectId('60c2ae3e40e537af1fc612f2'), 'Name': 'Myst', 'Platform': 'PSP', 'Year_of_Release': 2006.0, 'Genre': 'Adventure', 'Developer': 'Hoplite Research', 'Publisher': 'Midway Games', 'User_Score': '4.8'}\n",
      "{'_id': ObjectId('60c2ae3e40e537af1fc612f5'), 'Name': 'Darkened Skye', 'Platform': 'GC', 'Year_of_Release': 2002.0, 'Genre': 'Adventure', 'Developer': 'Boston Animation', 'Publisher': 'TDK Mediactive', 'User_Score': '6.4'}\n",
      "{'_id': ObjectId('60c2ae3e40e537af1fc612f7'), 'Name': 'Cartoon Network Battle Crashers', 'Platform': '3DS', 'Year_of_Release': 2016.0, 'Genre': 'Action', 'Developer': 'Magic Pockets', 'Publisher': 'FuRyu Corporation', 'User_Score': 'tbd'}\n",
      "{'_id': ObjectId('60c2ae3e40e537af1fc612fd'), 'Name': 'Juiced 2: Hot Import Nights', 'Platform': 'PC', 'Year_of_Release': 2007.0, 'Genre': 'Racing', 'Developer': 'Juice Games', 'Publisher': 'THQ', 'User_Score': '5'}\n",
      "{'_id': ObjectId('60c2ae3e40e537af1fc612fe'), 'Name': 'Poker for Dummies', 'Platform': 'PC', 'Year_of_Release': 2008.0, 'Genre': 'Misc', 'Developer': 'Electronic Arts', 'Publisher': 'Electronic Arts', 'User_Score': 'tbd'}\n",
      "{'_id': ObjectId('60c2ae3e40e537af1fc612ff'), 'Name': 'Super Dungeon Bros', 'Platform': 'PS4', 'Year_of_Release': 2016.0, 'Genre': 'Action', 'Developer': 'React Games', 'Publisher': 'Nordic Games', 'User_Score': '2.3'}\n",
      "{'_id': ObjectId('60c2ae3e40e537af1fc61306'), 'Name': 'The Wild West', 'Platform': 'DS', 'Year_of_Release': 2007.0, 'Genre': 'Action', 'Developer': 'Happy Happening', 'Publisher': 'Majesco Entertainment', 'User_Score': 'tbd'}\n",
      "{'_id': ObjectId('60c2ae3e40e537af1fc61307'), 'Name': 'thinkSMART: Chess for Kids', 'Platform': 'DS', 'Year_of_Release': 2011.0, 'Genre': 'Misc', 'Developer': 'Mentor Interactive', 'Publisher': 'Mentor Interactive', 'User_Score': 'tbd'}\n",
      "{'_id': ObjectId('60c2ae3e40e537af1fc6130a'), 'Name': 'Dungeon Explorer: Warriors of Ancient Arts', 'Platform': 'PSP', 'Year_of_Release': 2007.0, 'Genre': 'Role-Playing', 'Developer': 'Hudson Soft', 'Publisher': 'Rising Star Games', 'User_Score': '5.5'}\n",
      "{'_id': ObjectId('60c2ae3e40e537af1fc6130c'), 'Name': \"Sherlock Holmes: The Devil's Daughter\", 'Platform': 'PS4', 'Year_of_Release': 2016.0, 'Genre': 'Adventure', 'Developer': 'Frogwares', 'Publisher': 'Bigben Interactive', 'User_Score': '6.8'}\n",
      "{'_id': ObjectId('60c2ae3e40e537af1fc6130d'), 'Name': 'Root Letter', 'Platform': 'PS4', 'Year_of_Release': 2016.0, 'Genre': 'Adventure', 'Developer': 'Kadokawa', 'Publisher': 'PQube', 'User_Score': '7.5'}\n",
      "{'_id': ObjectId('60c2ae3e40e537af1fc61314'), 'Name': 'World Heroes Anthology', 'Platform': 'PS2', 'Year_of_Release': 2007.0, 'Genre': 'Fighting', 'Developer': 'SNK Playmore', 'Publisher': 'Ignition Entertainment', 'User_Score': 'tbd'}\n",
      "{'_id': ObjectId('60c2ae3e40e537af1fc61315'), 'Name': 'Ride 2', 'Platform': 'XOne', 'Year_of_Release': 2016.0, 'Genre': 'Racing', 'Developer': 'Milestone S.r.l', 'Publisher': 'Milestone S.r.l', 'User_Score': '8.2'}\n",
      "{'_id': ObjectId('60c2ae3e40e537af1fc61316'), 'Name': 'Ride 2', 'Platform': 'PC', 'Year_of_Release': 2016.0, 'Genre': 'Racing', 'Developer': 'Milestone S.r.l', 'Publisher': 'Milestone S.r.l', 'User_Score': '7.9'}\n",
      "{'_id': ObjectId('60c2ae3e40e537af1fc61317'), 'Name': 'Art Academy: Home Studio', 'Platform': 'WiiU', 'Year_of_Release': 2015.0, 'Genre': 'Misc', 'Developer': 'Headstrong Games', 'Publisher': 'Nintendo', 'User_Score': '8.3'}\n",
      "{'_id': ObjectId('60c2ae3e40e537af1fc61319'), 'Name': 'Colin McRae Rally 04', 'Platform': 'PC', 'Year_of_Release': 2004.0, 'Genre': 'Racing', 'Developer': 'Codemasters', 'Publisher': 'Codemasters', 'User_Score': '7.2'}\n",
      "{'_id': ObjectId('60c2ae3e40e537af1fc6131f'), 'Name': 'Rugby World Cup 2015', 'Platform': 'PC', 'Year_of_Release': 2015.0, 'Genre': 'Sports', 'Developer': 'HB Studios Multimedia', 'Publisher': 'Ubisoft', 'User_Score': '1.4'}\n",
      "{'_id': ObjectId('60c2ae3e40e537af1fc61321'), 'Name': 'Tropico 3: Gold Edition', 'Platform': 'PC', 'Year_of_Release': 2010.0, 'Genre': 'Strategy', 'Developer': 'Haemimont', 'Publisher': 'Kalypso Media', 'User_Score': 'tbd'}\n",
      "{'_id': ObjectId('60c2ae3e40e537af1fc61322'), 'Name': 'ESPN NBA 2Night 2002', 'Platform': 'XB', 'Year_of_Release': 2002.0, 'Genre': 'Sports', 'Developer': 'Konami', 'Publisher': 'Konami Digital Entertainment', 'User_Score': 'tbd'}\n",
      "{'_id': ObjectId('60c2ae3e40e537af1fc61323'), 'Name': 'Virtua Quest', 'Platform': 'GC', 'Year_of_Release': nan, 'Genre': 'Role-Playing', 'Developer': 'Artificial Mind and Movement', 'Publisher': 'Unknown', 'User_Score': '5.5'}\n",
      "{'_id': ObjectId('60c2ae3e40e537af1fc61324'), 'Name': 'Icewind Dale II', 'Platform': 'PC', 'Year_of_Release': 2002.0, 'Genre': 'Role-Playing', 'Developer': 'Black Isle Studios', 'Publisher': 'Interplay', 'User_Score': '8.3'}\n",
      "{'_id': ObjectId('60c2ae3e40e537af1fc61327'), 'Name': 'Dungeons 2', 'Platform': 'PS4', 'Year_of_Release': 2016.0, 'Genre': 'Role-Playing', 'Developer': 'Kalypso', 'Publisher': 'Kalypso Media', 'User_Score': '7.9'}\n",
      "{'_id': ObjectId('60c2ae3e40e537af1fc61329'), 'Name': 'Pro Evolution Soccer 2010', 'Platform': 'PC', 'Year_of_Release': 2009.0, 'Genre': 'Sports', 'Developer': 'Konami', 'Publisher': 'Konami Digital Entertainment', 'User_Score': '6.9'}\n",
      "{'_id': ObjectId('60c2ae3e40e537af1fc6132a'), 'Name': 'Hoshigami: Ruining Blue Earth Remix', 'Platform': 'DS', 'Year_of_Release': 2007.0, 'Genre': 'Role-Playing', 'Developer': 'Barnhouse Effect', 'Publisher': '505 Games', 'User_Score': '7.9'}\n",
      "{'_id': ObjectId('60c2ae3e40e537af1fc6132b'), 'Name': 'Carmageddon: Max Damage', 'Platform': 'PS4', 'Year_of_Release': 2016.0, 'Genre': 'Action', 'Developer': 'Stainless Games', 'Publisher': 'Stainless Games', 'User_Score': '5.5'}\n",
      "{'_id': ObjectId('60c2ae3e40e537af1fc6132d'), 'Name': 'Alone in the Dark', 'Platform': 'PC', 'Year_of_Release': 2008.0, 'Genre': 'Adventure', 'Developer': 'Eden Studios', 'Publisher': 'Atari', 'User_Score': '5.7'}\n",
      "{'_id': ObjectId('60c2ae3e40e537af1fc6132e'), 'Name': 'Rugby League Live 3', 'Platform': 'XOne', 'Year_of_Release': 2015.0, 'Genre': 'Action', 'Developer': 'Big Ant Studios', 'Publisher': 'Tru Blu Entertainment', 'User_Score': '7.1'}\n",
      "{'_id': ObjectId('60c2ae3e40e537af1fc6132f'), 'Name': 'The Cages: Pro Style Batting Practice', 'Platform': 'Wii', 'Year_of_Release': 2010.0, 'Genre': 'Sports', 'Developer': 'Alpha Unit', 'Publisher': 'Konami Digital Entertainment', 'User_Score': 'tbd'}\n",
      "{'_id': ObjectId('60c2ae3e40e537af1fc61332'), 'Name': \"Clive Barker's Jericho\", 'Platform': 'PC', 'Year_of_Release': 2007.0, 'Genre': 'Shooter', 'Developer': 'Mercury Steam, Alchemic Productions', 'Publisher': 'Codemasters', 'User_Score': '7.5'}\n",
      "{'_id': ObjectId('60c2ae3e40e537af1fc61334'), 'Name': 'Grand Prix Legends', 'Platform': 'PC', 'Year_of_Release': 1997.0, 'Genre': 'Racing', 'Developer': 'Papyrus', 'Publisher': 'Vivendi Games', 'User_Score': '7.5'}\n",
      "{'_id': ObjectId('60c2ae3e40e537af1fc61339'), 'Name': \"Assassin's Creed Chronicles\", 'Platform': 'XOne', 'Year_of_Release': 2016.0, 'Genre': 'Action', 'Developer': 'Climax Studios', 'Publisher': 'Ubisoft', 'User_Score': '6.8'}\n",
      "{'_id': ObjectId('60c2ae3e40e537af1fc6133a'), 'Name': 'Madagascar: Escape 2 Africa', 'Platform': 'PC', 'Year_of_Release': 2008.0, 'Genre': 'Action', 'Developer': 'Aspyr', 'Publisher': 'Activision', 'User_Score': '8'}\n",
      "{'_id': ObjectId('60c2ae3e40e537af1fc6133b'), 'Name': \"Wade Hixton's Counter Punch\", 'Platform': 'GBA', 'Year_of_Release': 2004.0, 'Genre': 'Sports', 'Developer': 'Inferno Games', 'Publisher': 'Destination Software, Inc', 'User_Score': '9.5'}\n",
      "{'_id': ObjectId('60c2ae3e40e537af1fc6133c'), 'Name': 'MotoGP 14 ', 'Platform': 'PSV', 'Year_of_Release': 2014.0, 'Genre': 'Racing', 'Developer': 'Milestone S.r.l', 'Publisher': 'Milestone S.r.l.', 'User_Score': '7.5'}\n",
      "{'_id': ObjectId('60c2ae3e40e537af1fc6133e'), 'Name': 'Sega Rally Revo', 'Platform': 'PC', 'Year_of_Release': 2007.0, 'Genre': 'Racing', 'Developer': 'SEGA Racing Studio', 'Publisher': 'Sega', 'User_Score': '7.6'}\n",
      "{'_id': ObjectId('60c2ae3e40e537af1fc6134b'), 'Name': 'Outdoors Unleashed: Alaska 3D', 'Platform': '3DS', 'Year_of_Release': 2011.0, 'Genre': 'Sports', 'Developer': 'Mastiff', 'Publisher': 'Mastiff', 'User_Score': 'tbd'}\n",
      "{'_id': ObjectId('60c2ae3e40e537af1fc6134e'), 'Name': 'Egg Mania: Eggstreme Madness', 'Platform': 'GC', 'Year_of_Release': 2002.0, 'Genre': 'Puzzle', 'Developer': 'Kemco', 'Publisher': 'Kemco', 'User_Score': '8'}\n",
      "{'_id': ObjectId('60c2ae3e40e537af1fc61351'), 'Name': \"Luxor: Pharaoh's Challenge\", 'Platform': 'DS', 'Year_of_Release': 2007.0, 'Genre': 'Puzzle', 'Developer': 'Mac Play, MacPlay', 'Publisher': 'Funsta', 'User_Score': 'tbd'}\n",
      "{'_id': ObjectId('60c2ae3e40e537af1fc61352'), 'Name': 'The Eye of Judgment: Legends', 'Platform': 'PSP', 'Year_of_Release': 2010.0, 'Genre': 'Strategy', 'Developer': 'SCEI', 'Publisher': 'Sony Computer Entertainment', 'User_Score': '7.9'}\n",
      "{'_id': ObjectId('60c2ae3e40e537af1fc61355'), 'Name': \"King's Bounty: Armored Princess\", 'Platform': 'PC', 'Year_of_Release': 2009.0, 'Genre': 'Role-Playing', 'Developer': 'Katauri Interactive', 'Publisher': '1C Company', 'User_Score': '8.6'}\n",
      "{'_id': ObjectId('60c2ae3e40e537af1fc61357'), 'Name': \"Smart Boy's Winter Wonderland\", 'Platform': 'DS', 'Year_of_Release': 2008.0, 'Genre': 'Misc', 'Developer': 'UFO Interactive', 'Publisher': 'UFO Interactive', 'User_Score': 'tbd'}\n",
      "{'_id': ObjectId('60c2ae3e40e537af1fc6135a'), 'Name': 'Space Raiders', 'Platform': 'GC', 'Year_of_Release': 2003.0, 'Genre': 'Shooter', 'Developer': 'Taito Corporation', 'Publisher': 'Taito', 'User_Score': 'tbd'}\n",
      "{'_id': ObjectId('60c2ae3e40e537af1fc61361'), 'Name': 'Transformers: Fall of Cybertron', 'Platform': 'PC', 'Year_of_Release': 2012.0, 'Genre': 'Action', 'Developer': 'High Moon Studios, Mercenary Technologies', 'Publisher': 'Activision', 'User_Score': '7.9'}\n",
      "{'_id': ObjectId('60c2ae3e40e537af1fc61368'), 'Name': 'Micro Machines V4', 'Platform': 'PS2', 'Year_of_Release': 2006.0, 'Genre': 'Racing', 'Developer': 'Supersonic Software', 'Publisher': 'Codemasters', 'User_Score': '6.8'}\n",
      "{'_id': ObjectId('60c2ae3e40e537af1fc6136a'), 'Name': 'Winx Club: Saving Alfea ', 'Platform': '3DS', 'Year_of_Release': 2014.0, 'Genre': 'Action', 'Developer': 'Little Orbit', 'Publisher': 'Namco Bandai Games', 'User_Score': 'tbd'}\n",
      "{'_id': ObjectId('60c2ae3e40e537af1fc6136e'), 'Name': 'Saints Row: Gat out of Hell', 'Platform': 'XOne', 'Year_of_Release': 2015.0, 'Genre': 'Action', 'Developer': 'Volition Inc.', 'Publisher': 'Deep Silver', 'User_Score': '6'}\n",
      "{'_id': ObjectId('60c2ae3e40e537af1fc61370'), 'Name': \"Legends of Oz: Dorothy's Return\", 'Platform': '3DS', 'Year_of_Release': 2014.0, 'Genre': 'Puzzle', 'Developer': 'Black Lantern Studios', 'Publisher': 'GameMill Entertainment', 'User_Score': 'tbd'}\n",
      "{'_id': ObjectId('60c2ae3e40e537af1fc6137e'), 'Name': 'Dragon Ball Z for Kinect', 'Platform': 'X360', 'Year_of_Release': 2012.0, 'Genre': 'Fighting', 'Developer': 'Spike', 'Publisher': 'Namco Bandai Games', 'User_Score': '2.1'}\n",
      "{'_id': ObjectId('60c2ae3e40e537af1fc6137f'), 'Name': 'Legacy of Kain: Defiance', 'Platform': 'PC', 'Year_of_Release': 2003.0, 'Genre': 'Action', 'Developer': 'Nixxes Software', 'Publisher': 'Eidos Interactive', 'User_Score': '8.7'}\n",
      "{'_id': ObjectId('60c2ae3e40e537af1fc61380'), 'Name': 'Balloon Pop 2', 'Platform': '3DS', 'Year_of_Release': 2012.0, 'Genre': 'Puzzle', 'Developer': 'UFO Interactive', 'Publisher': 'UFO Interactive', 'User_Score': 'tbd'}\n",
      "{'_id': ObjectId('60c2ae3e40e537af1fc61383'), 'Name': 'Xblaze: Lost Memories', 'Platform': 'PSV', 'Year_of_Release': 2015.0, 'Genre': 'Adventure', 'Developer': 'Arc System Works', 'Publisher': 'Arc System Works', 'User_Score': '7'}\n",
      "{'_id': ObjectId('60c2ae3e40e537af1fc61385'), 'Name': 'Trine', 'Platform': 'PC', 'Year_of_Release': 2009.0, 'Genre': 'Action', 'Developer': 'Frozenbyte, Inc.', 'Publisher': 'Nobilis', 'User_Score': '8.2'}\n",
      "{'_id': ObjectId('60c2ae3e40e537af1fc6138b'), 'Name': 'The Ultimate Battle of the Sexes', 'Platform': 'Wii', 'Year_of_Release': 2010.0, 'Genre': 'Misc', 'Developer': 'Neopica', 'Publisher': 'DTP Entertainment', 'User_Score': 'tbd'}\n",
      "{'_id': ObjectId('60c2ae3e40e537af1fc6138c'), 'Name': 'Karnaaj Rally', 'Platform': 'GBA', 'Year_of_Release': 2003.0, 'Genre': 'Racing', 'Developer': 'Infinite Dreams, Paragon 5', 'Publisher': 'Jaleco', 'User_Score': '9.5'}\n",
      "{'_id': ObjectId('60c2ae3e40e537af1fc6138f'), 'Name': 'Sébastien Loeb Rally Evo', 'Platform': 'XOne', 'Year_of_Release': 2016.0, 'Genre': 'Racing', 'Developer': 'Milestone S.r.l', 'Publisher': 'Milestone S.r.l', 'User_Score': '8.2'}\n",
      "{'_id': ObjectId('60c2ae3e40e537af1fc61392'), 'Name': 'SBK Superbike World Championship', 'Platform': 'PSP', 'Year_of_Release': 2008.0, 'Genre': 'Racing', 'Developer': 'Milestone S.r.l', 'Publisher': 'Black Bean Games', 'User_Score': 'tbd'}\n",
      "{'_id': ObjectId('60c2ae3e40e537af1fc61395'), 'Name': 'Deal or No Deal', 'Platform': 'PC', 'Year_of_Release': 2006.0, 'Genre': 'Misc', 'Developer': 'Global Star Software', 'Publisher': 'Focus Home Interactive', 'User_Score': '7.5'}\n",
      "{'_id': ObjectId('60c2ae3e40e537af1fc61397'), 'Name': 'Tour de France 2014', 'Platform': 'PS3', 'Year_of_Release': 2014.0, 'Genre': 'Sports', 'Developer': 'Cyanide', 'Publisher': 'Focus Home Interactive', 'User_Score': 'tbd'}\n",
      "{'_id': ObjectId('60c2ae3e40e537af1fc61399'), 'Name': 'Hospital Tycoon', 'Platform': 'PC', 'Year_of_Release': 2007.0, 'Genre': 'Strategy', 'Developer': 'Big Red Software', 'Publisher': 'Codemasters', 'User_Score': '3.8'}\n",
      "{'_id': ObjectId('60c2ae3e40e537af1fc6139c'), 'Name': 'Rugby Challenge 3', 'Platform': 'XOne', 'Year_of_Release': 2016.0, 'Genre': 'Sports', 'Developer': 'Wicked Witch Software', 'Publisher': 'Alternative Software', 'User_Score': '6.6'}\n",
      "{'_id': ObjectId('60c2ae3e40e537af1fc613a0'), 'Name': 'Metal Gear Solid HD Edition', 'Platform': 'X360', 'Year_of_Release': 2011.0, 'Genre': 'Action', 'Developer': 'Konami', 'Publisher': 'Konami Digital Entertainment', 'User_Score': 'tbd'}\n",
      "{'_id': ObjectId('60c2ae3e40e537af1fc613a3'), 'Name': 'Agatha Christie: Peril at End House', 'Platform': 'PC', 'Year_of_Release': 2009.0, 'Genre': 'Adventure', 'Developer': 'Oberon Media', 'Publisher': 'JoWood Productions', 'User_Score': 'tbd'}\n",
      "{'_id': ObjectId('60c2ae3e40e537af1fc613a5'), 'Name': 'Fast Racing Neo ', 'Platform': 'WiiU', 'Year_of_Release': 2016.0, 'Genre': 'Action', 'Developer': \"Shin'en\", 'Publisher': 'Nintendo', 'User_Score': '8.5'}\n",
      "{'_id': ObjectId('60c2ae3e40e537af1fc613a7'), 'Name': 'Ben 10 Omniverse 2', 'Platform': 'X360', 'Year_of_Release': 2013.0, 'Genre': 'Action', 'Developer': 'High Voltage Software', 'Publisher': 'Namco Bandai Games', 'User_Score': '5.1'}\n",
      "{'_id': ObjectId('60c2ae3e40e537af1fc613a8'), 'Name': 'Summer Athletics', 'Platform': 'PC', 'Year_of_Release': 2008.0, 'Genre': 'Sports', 'Developer': '49Games', 'Publisher': 'DTP Entertainment', 'User_Score': 'tbd'}\n",
      "{'_id': ObjectId('60c2ae3e40e537af1fc613ad'), 'Name': 'Prison Architect', 'Platform': 'XOne', 'Year_of_Release': 2016.0, 'Genre': 'Action', 'Developer': 'Introversion, Double Eleven', 'Publisher': 'Introversion Software', 'User_Score': '6.7'}\n",
      "{'_id': ObjectId('60c2ae3e40e537af1fc613ae'), 'Name': 'Bookworm Deluxe', 'Platform': 'PC', 'Year_of_Release': 2006.0, 'Genre': 'Puzzle', 'Developer': 'PopCap', 'Publisher': 'PopCap Games', 'User_Score': '8'}\n",
      "{'_id': ObjectId('60c2ae3e40e537af1fc613b0'), 'Name': 'E.T. The Extra-Terrestrial', 'Platform': 'GBA', 'Year_of_Release': 2001.0, 'Genre': 'Action', 'Developer': 'Fluid Studios', 'Publisher': 'NewKidCo', 'User_Score': '2.4'}\n",
      "{'_id': ObjectId('60c2ae3e40e537af1fc613b6'), 'Name': 'Super Robot Taisen: Original Generation', 'Platform': 'GBA', 'Year_of_Release': 2002.0, 'Genre': 'Role-Playing', 'Developer': 'Banpresto', 'Publisher': 'Banpresto', 'User_Score': 'tbd'}\n",
      "{'_id': ObjectId('60c2ae3e40e537af1fc613b9'), 'Name': 'Metal Gear Solid V: The Definitive Experience', 'Platform': 'XOne', 'Year_of_Release': 2016.0, 'Genre': 'Action', 'Developer': 'Kojima Productions', 'Publisher': 'Konami Digital Entertainment', 'User_Score': 'tbd'}\n",
      "{'_id': ObjectId('60c2ae3e40e537af1fc613ba'), 'Name': 'Mortal Kombat: Deadly Alliance', 'Platform': 'GBA', 'Year_of_Release': 2002.0, 'Genre': 'Fighting', 'Developer': 'Criterion Games', 'Publisher': 'Midway Games', 'User_Score': '8.8'}\n",
      "{'_id': ObjectId('60c2ae3e40e537af1fc613c2'), 'Name': 'Worms 2', 'Platform': 'PC', 'Year_of_Release': 1997.0, 'Genre': 'Strategy', 'Developer': 'Team 17', 'Publisher': 'Microprose', 'User_Score': '8.1'}\n",
      "{'_id': ObjectId('60c2ae3e40e537af1fc613c9'), 'Name': 'Outdoors Unleashed: Africa 3D', 'Platform': '3DS', 'Year_of_Release': 2011.0, 'Genre': 'Sports', 'Developer': 'Mastiff', 'Publisher': 'Mastiff', 'User_Score': 'tbd'}\n",
      "{'_id': ObjectId('60c2ae3e40e537af1fc613cd'), 'Name': 'Metal Gear Solid V: Ground Zeroes', 'Platform': 'PC', 'Year_of_Release': 2014.0, 'Genre': 'Action', 'Developer': 'Kojima Productions', 'Publisher': 'Konami Digital Entertainment', 'User_Score': '7.6'}\n",
      "{'_id': ObjectId('60c2ae3e40e537af1fc613d0'), 'Name': 'Planet Monsters', 'Platform': 'GBA', 'Year_of_Release': 2001.0, 'Genre': 'Action', 'Developer': 'Planet Interactive', 'Publisher': 'Titus', 'User_Score': 'tbd'}\n",
      "{'_id': ObjectId('60c2ae3e40e537af1fc613d1'), 'Name': 'Breach', 'Platform': 'PC', 'Year_of_Release': 2011.0, 'Genre': 'Shooter', 'Developer': 'Atomic Games', 'Publisher': 'Destineer', 'User_Score': '5.8'}\n",
      "{'_id': ObjectId('60c2ae3e40e537af1fc613d2'), 'Name': 'Bust-A-Move 3000', 'Platform': 'GC', 'Year_of_Release': 2003.0, 'Genre': 'Puzzle', 'Developer': 'Taito Corporation', 'Publisher': 'Ubisoft', 'User_Score': 'tbd'}\n",
      "{'_id': ObjectId('60c2ae3e40e537af1fc613d3'), 'Name': 'Mega Brain Boost', 'Platform': 'DS', 'Year_of_Release': 2008.0, 'Genre': 'Puzzle', 'Developer': 'Interchannel-Holon', 'Publisher': 'Majesco Entertainment', 'User_Score': 'tbd'}\n",
      "{'_id': ObjectId('60c2ae3e40e537af1fc613d7'), 'Name': 'STORM: Frontline Nation', 'Platform': 'PC', 'Year_of_Release': 2011.0, 'Genre': 'Strategy', 'Developer': 'SimBin', 'Publisher': 'Unknown', 'User_Score': '7.2'}\n",
      "{'_id': ObjectId('60c2ae3e40e537af1fc613d9'), 'Name': 'Plushees', 'Platform': 'DS', 'Year_of_Release': 2008.0, 'Genre': 'Simulation', 'Developer': 'Big John Games', 'Publisher': 'Destineer', 'User_Score': 'tbd'}\n",
      "{'_id': ObjectId('60c2ae3e40e537af1fc613da'), 'Name': '15 Days', 'Platform': 'PC', 'Year_of_Release': 2009.0, 'Genre': 'Adventure', 'Developer': 'DTP Entertainment', 'Publisher': 'DTP Entertainment', 'User_Score': '5.8'}\n",
      "{'_id': ObjectId('60c2ae3e40e537af1fc613db'), 'Name': 'Men in Black II: Alien Escape', 'Platform': 'GC', 'Year_of_Release': 2003.0, 'Genre': 'Shooter', 'Developer': 'Atari', 'Publisher': 'Infogrames', 'User_Score': 'tbd'}\n"
     ]
    }
   ],
   "source": [
    "for result in results:\n",
    "    print(result)"
   ]
  },
  {
   "cell_type": "code",
   "execution_count": null,
   "metadata": {},
   "outputs": [],
   "source": []
  },
  {
   "cell_type": "code",
   "execution_count": null,
   "metadata": {},
   "outputs": [],
   "source": []
  },
  {
   "cell_type": "code",
   "execution_count": null,
   "metadata": {},
   "outputs": [],
   "source": []
  }
 ]
}